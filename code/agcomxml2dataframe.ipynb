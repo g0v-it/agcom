{
 "cells": [
  {
   "cell_type": "code",
   "execution_count": 41,
   "metadata": {},
   "outputs": [],
   "source": [
    "import pandas as pd\n",
    "from matplotlib import pyplot as plt\n"
   ]
  },
  {
   "cell_type": "markdown",
   "metadata": {},
   "source": [
    "I dati sono presenti nella pagina\n",
    "\n",
    "https://www.agcom.it/dati-elementari-di-monitoraggio-televisivo\n",
    "\n",
    "... solo che sono fermi a febbraio 2021\n",
    "\n",
    "Elaboriamo la risorsa che si trova qui \n",
    "\n",
    "https://www.agcom.it/visualizza-documento/7a76bc85-1212-4686-a994-e4147fd8cc46"
   ]
  },
  {
   "cell_type": "code",
   "execution_count": 21,
   "metadata": {},
   "outputs": [],
   "source": [
    "url = \"https://www.agcom.it/documents/10179/25952154/Dati+monitoraggio+22-02-2022/7a76bc85-1212-4686-a994-e4147fd8cc46?version=1.0\""
   ]
  },
  {
   "cell_type": "markdown",
   "metadata": {},
   "source": [
    "Questo un esempio del codice XML\n",
    "```xml\n",
    "<?xml version=\"1.0\" encoding=\"utf-8\"?>\n",
    "<DATI>\n",
    "  <LICENZA>\n",
    "    <TESTO><![CDATA[Il riuso dei dati di monitoraggio pubblicati in questa sezione è ammesso secondo quanto previsto dalla licenza Creative Commons Attribuzione 4.0 Internazionale (CC BY-NC-SA 4.0), disponibile all'indirizzo https://creativecommons.org/licenses/by-nc-sa/4.0/legalcode.it). A tal fine in ogni lavoro o opera derivata basata, anche in minima parte, sui dati di monitoraggio Agcom dovrà essere riportato il logo presente al seguente link https://www.agcom.it/monitoraggio-televisivo-e-radiofonico.]]></TESTO>\n",
    "  </LICENZA>\n",
    "  <RECORD>\n",
    "    <CANALE>CANALE</CANALE>\n",
    "    <PROGRAMMA>PROGRAMMA</PROGRAMMA>\n",
    "    <DATA>data</DATA>\n",
    "    <COGNOME>COGNOME</COGNOME>\n",
    "    <NOME>NOME</NOME>\n",
    "    <MICRO_CATEGORIA>MICRO</MICRO_CATEGORIA>\n",
    "    <ARGOMENTO>ARGOMENTO</ARGOMENTO>\n",
    "    <DURATA>DURATA</DURATA>\n",
    "    <TIPO_TEMPO>TIPO</TIPO_TEMPO>\n",
    "```\n",
    "\n",
    "Attenzione: \n",
    "- l'encoding è sicuramente *sbagliato*\n",
    "- bisogna prendere i dati contenuti nel tag RECORD"
   ]
  },
  {
   "cell_type": "code",
   "execution_count": 25,
   "metadata": {},
   "outputs": [],
   "source": [
    "# l'encoding non è quello corretto\n",
    "df = pd.read_xml(url,encoding='utf-8', parser='lxml')"
   ]
  },
  {
   "cell_type": "markdown",
   "metadata": {},
   "source": [
    "escludo la prima e la seconda riga"
   ]
  },
  {
   "cell_type": "code",
   "execution_count": 33,
   "metadata": {},
   "outputs": [],
   "source": [
    "df = df.iloc[2:, :]\n"
   ]
  },
  {
   "cell_type": "markdown",
   "metadata": {},
   "source": [
    "ed escludo la colonna TESTO"
   ]
  },
  {
   "cell_type": "code",
   "execution_count": 31,
   "metadata": {},
   "outputs": [],
   "source": [
    "del df['TESTO']"
   ]
  },
  {
   "cell_type": "code",
   "execution_count": 34,
   "metadata": {},
   "outputs": [
    {
     "data": {
      "text/html": [
       "<div>\n",
       "<style scoped>\n",
       "    .dataframe tbody tr th:only-of-type {\n",
       "        vertical-align: middle;\n",
       "    }\n",
       "\n",
       "    .dataframe tbody tr th {\n",
       "        vertical-align: top;\n",
       "    }\n",
       "\n",
       "    .dataframe thead th {\n",
       "        text-align: right;\n",
       "    }\n",
       "</style>\n",
       "<table border=\"1\" class=\"dataframe\">\n",
       "  <thead>\n",
       "    <tr style=\"text-align: right;\">\n",
       "      <th></th>\n",
       "      <th>CANALE</th>\n",
       "      <th>PROGRAMMA</th>\n",
       "      <th>DATA</th>\n",
       "      <th>COGNOME</th>\n",
       "      <th>NOME</th>\n",
       "      <th>MICRO_CATEGORIA</th>\n",
       "      <th>ARGOMENTO</th>\n",
       "      <th>DURATA</th>\n",
       "      <th>TIPO_TEMPO</th>\n",
       "    </tr>\n",
       "  </thead>\n",
       "  <tbody>\n",
       "    <tr>\n",
       "      <th>3</th>\n",
       "      <td>CANALE 5</td>\n",
       "      <td>TG5</td>\n",
       "      <td>01.10.2021</td>\n",
       "      <td>Fornaro</td>\n",
       "      <td>Federico</td>\n",
       "      <td>Liberi e Uguali</td>\n",
       "      <td>Politica e attivit� istituzionali</td>\n",
       "      <td>9</td>\n",
       "      <td>Notizia</td>\n",
       "    </tr>\n",
       "    <tr>\n",
       "      <th>4</th>\n",
       "      <td>CANALE 5</td>\n",
       "      <td>TG5</td>\n",
       "      <td>01.10.2021</td>\n",
       "      <td>Letta</td>\n",
       "      <td>Enrico</td>\n",
       "      <td>Partito Democratico</td>\n",
       "      <td>Politica e attivit� istituzionali</td>\n",
       "      <td>191</td>\n",
       "      <td>Notizia</td>\n",
       "    </tr>\n",
       "    <tr>\n",
       "      <th>5</th>\n",
       "      <td>CANALE 5</td>\n",
       "      <td>TG5 PRIMA PAGINA</td>\n",
       "      <td>01.10.2021</td>\n",
       "      <td>Berlusconi</td>\n",
       "      <td>Silvio</td>\n",
       "      <td>PDL - Forza Italia</td>\n",
       "      <td>Politica e attivit� istituzionali</td>\n",
       "      <td>290</td>\n",
       "      <td>Notizia</td>\n",
       "    </tr>\n",
       "    <tr>\n",
       "      <th>6</th>\n",
       "      <td>CANALE 5</td>\n",
       "      <td>TG5 PRIMA PAGINA</td>\n",
       "      <td>01.10.2021</td>\n",
       "      <td>PDL - Forza Italia</td>\n",
       "      <td>Soggetto collettivo</td>\n",
       "      <td>PDL - Forza Italia</td>\n",
       "      <td>Politica e attivit� istituzionali</td>\n",
       "      <td>27</td>\n",
       "      <td>Notizia</td>\n",
       "    </tr>\n",
       "    <tr>\n",
       "      <th>7</th>\n",
       "      <td>CANALE 5</td>\n",
       "      <td>TG5</td>\n",
       "      <td>01.10.2021</td>\n",
       "      <td>Fidanza</td>\n",
       "      <td>Carlo</td>\n",
       "      <td>Fratelli d'Italia</td>\n",
       "      <td>Politica e attivit� istituzionali</td>\n",
       "      <td>6</td>\n",
       "      <td>Notizia</td>\n",
       "    </tr>\n",
       "    <tr>\n",
       "      <th>...</th>\n",
       "      <td>...</td>\n",
       "      <td>...</td>\n",
       "      <td>...</td>\n",
       "      <td>...</td>\n",
       "      <td>...</td>\n",
       "      <td>...</td>\n",
       "      <td>...</td>\n",
       "      <td>...</td>\n",
       "      <td>...</td>\n",
       "    </tr>\n",
       "    <tr>\n",
       "      <th>20192</th>\n",
       "      <td>TV8</td>\n",
       "      <td>SKY TG24 - BUONGIORNO</td>\n",
       "      <td>29.10.2021</td>\n",
       "      <td>Renzi</td>\n",
       "      <td>Matteo</td>\n",
       "      <td>Italia Viva</td>\n",
       "      <td>Politica e attivit� istituzionali</td>\n",
       "      <td>10</td>\n",
       "      <td>Parola</td>\n",
       "    </tr>\n",
       "    <tr>\n",
       "      <th>20193</th>\n",
       "      <td>TV8</td>\n",
       "      <td>SKY TG24 - BUONGIORNO</td>\n",
       "      <td>29.10.2021</td>\n",
       "      <td>Letta</td>\n",
       "      <td>Enrico</td>\n",
       "      <td>Partito Democratico</td>\n",
       "      <td>Politica e attivit� istituzionali</td>\n",
       "      <td>15</td>\n",
       "      <td>Parola</td>\n",
       "    </tr>\n",
       "    <tr>\n",
       "      <th>20194</th>\n",
       "      <td>TV8</td>\n",
       "      <td>SKY TG24 - BUONGIORNO</td>\n",
       "      <td>29.10.2021</td>\n",
       "      <td>Salvini</td>\n",
       "      <td>Matteo</td>\n",
       "      <td>Lega Nord</td>\n",
       "      <td>Politica e attivit� istituzionali</td>\n",
       "      <td>15</td>\n",
       "      <td>Parola</td>\n",
       "    </tr>\n",
       "    <tr>\n",
       "      <th>20195</th>\n",
       "      <td>TV8</td>\n",
       "      <td>SKY TG24</td>\n",
       "      <td>30.10.2021</td>\n",
       "      <td>Di Mare</td>\n",
       "      <td>Giuseppe</td>\n",
       "      <td>Altro</td>\n",
       "      <td>Politica e attivit� istituzionali</td>\n",
       "      <td>60</td>\n",
       "      <td>Parola</td>\n",
       "    </tr>\n",
       "    <tr>\n",
       "      <th>20196</th>\n",
       "      <td>TV8</td>\n",
       "      <td>SKY TG24</td>\n",
       "      <td>31.10.2021</td>\n",
       "      <td>Di Mare</td>\n",
       "      <td>Giuseppe</td>\n",
       "      <td>Altro</td>\n",
       "      <td>Cronaca</td>\n",
       "      <td>10</td>\n",
       "      <td>Parola</td>\n",
       "    </tr>\n",
       "  </tbody>\n",
       "</table>\n",
       "<p>20194 rows × 9 columns</p>\n",
       "</div>"
      ],
      "text/plain": [
       "         CANALE              PROGRAMMA        DATA             COGNOME  \\\n",
       "3      CANALE 5                    TG5  01.10.2021             Fornaro   \n",
       "4      CANALE 5                    TG5  01.10.2021               Letta   \n",
       "5      CANALE 5       TG5 PRIMA PAGINA  01.10.2021          Berlusconi   \n",
       "6      CANALE 5       TG5 PRIMA PAGINA  01.10.2021  PDL - Forza Italia   \n",
       "7      CANALE 5                    TG5  01.10.2021             Fidanza   \n",
       "...         ...                    ...         ...                 ...   \n",
       "20192       TV8  SKY TG24 - BUONGIORNO  29.10.2021               Renzi   \n",
       "20193       TV8  SKY TG24 - BUONGIORNO  29.10.2021               Letta   \n",
       "20194       TV8  SKY TG24 - BUONGIORNO  29.10.2021             Salvini   \n",
       "20195       TV8               SKY TG24  30.10.2021             Di Mare   \n",
       "20196       TV8               SKY TG24  31.10.2021             Di Mare   \n",
       "\n",
       "                      NOME      MICRO_CATEGORIA  \\\n",
       "3                 Federico      Liberi e Uguali   \n",
       "4                   Enrico  Partito Democratico   \n",
       "5                   Silvio   PDL - Forza Italia   \n",
       "6      Soggetto collettivo   PDL - Forza Italia   \n",
       "7                    Carlo    Fratelli d'Italia   \n",
       "...                    ...                  ...   \n",
       "20192               Matteo          Italia Viva   \n",
       "20193               Enrico  Partito Democratico   \n",
       "20194               Matteo            Lega Nord   \n",
       "20195             Giuseppe                Altro   \n",
       "20196             Giuseppe                Altro   \n",
       "\n",
       "                               ARGOMENTO DURATA TIPO_TEMPO  \n",
       "3      Politica e attivit� istituzionali      9    Notizia  \n",
       "4      Politica e attivit� istituzionali    191    Notizia  \n",
       "5      Politica e attivit� istituzionali    290    Notizia  \n",
       "6      Politica e attivit� istituzionali     27    Notizia  \n",
       "7      Politica e attivit� istituzionali      6    Notizia  \n",
       "...                                  ...    ...        ...  \n",
       "20192  Politica e attivit� istituzionali     10     Parola  \n",
       "20193  Politica e attivit� istituzionali     15     Parola  \n",
       "20194  Politica e attivit� istituzionali     15     Parola  \n",
       "20195  Politica e attivit� istituzionali     60     Parola  \n",
       "20196                            Cronaca     10     Parola  \n",
       "\n",
       "[20194 rows x 9 columns]"
      ]
     },
     "execution_count": 34,
     "metadata": {},
     "output_type": "execute_result"
    }
   ],
   "source": [
    "df"
   ]
  },
  {
   "cell_type": "code",
   "execution_count": 46,
   "metadata": {},
   "outputs": [
    {
     "data": {
      "text/plain": [
       "Salvini       1324\n",
       "Letta          953\n",
       "Meloni         885\n",
       "Conte          777\n",
       "Berlusconi     527\n",
       "Name: COGNOME, dtype: int64"
      ]
     },
     "execution_count": 46,
     "metadata": {},
     "output_type": "execute_result"
    }
   ],
   "source": [
    "df.COGNOME.value_counts().head(5)"
   ]
  },
  {
   "cell_type": "code",
   "execution_count": 47,
   "metadata": {},
   "outputs": [
    {
     "data": {
      "image/png": "[encoded data removed]",
      "text/plain": [
       "<Figure size 432x288 with 1 Axes>"
      ]
     },
     "metadata": {
      "needs_background": "light"
     },
     "output_type": "display_data"
    }
   ],
   "source": [
    "df.COGNOME.value_counts().head(5).plot(kind='bar')\n",
    "plt.show()"
   ]
  }
 ],
 "metadata": {
  "kernelspec": {
   "display_name": "Python 3.10.4 64-bit",
   "language": "python",
   "name": "python3"
  },
  "language_info": {
   "codemirror_mode": {
    "name": "ipython",
    "version": 3
   },
   "file_extension": ".py",
   "mimetype": "text/x-python",
   "name": "python",
   "nbconvert_exporter": "python",
   "pygments_lexer": "ipython3",
   "version": "3.10.4"
  },
  "orig_nbformat": 4,
  "vscode": {
   "interpreter": {
    "hash": "31f2aee4e71d21fbe5cf8b01ff0e069b9275f58929596ceb00d14d90e3e16cd6"
   }
  }
 },
 "nbformat": 4,
 "nbformat_minor": 2
}
