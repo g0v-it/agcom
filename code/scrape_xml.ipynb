{
 "cells": [
  {
   "cell_type": "code",
   "execution_count": 275,
   "metadata": {},
   "outputs": [],
   "source": [
    "import requests\n",
    "from bs4 import BeautifulSoup\n",
    "import pandas as pd\n",
    "import os\n"
   ]
  },
  {
   "cell_type": "code",
   "execution_count": 133,
   "metadata": {},
   "outputs": [],
   "source": [
    "pages = []\n",
    "url = \"https://www.agcom.it/dati-elementari-di-monitoraggio-televisivo\"\n",
    "pages.append(url)\n",
    "soup = BeautifulSoup(requests.get(url).content, \"html.parser\")\n",
    "li = soup.find(\"li\", {\"class\": \"next\"})  # .find(\"a\")['href']\n"
   ]
  },
  {
   "cell_type": "code",
   "execution_count": 134,
   "metadata": {},
   "outputs": [],
   "source": [
    "while (li is not None):\n",
    "    url = li.find(\"a\")['href']\n",
    "    pages.append(url)\n",
    "    soup = BeautifulSoup(requests.get(url).content, \"html.parser\")\n",
    "    li = soup.find(\"li\", {\"class\": \"next\"})  # .find(\"a\")['href']\n"
   ]
  },
  {
   "cell_type": "code",
   "execution_count": 191,
   "metadata": {},
   "outputs": [],
   "source": [
    "lefturl = \"https://www.agcom.it/visualizza-documento?p_p_id=visualizzadocumento_WAR_visualizzadocumentoportlet&p_p_lifecycle=1&p_p_state=normal&p_p_mode=view&p_p_col_id=single-column&p_p_col_count=1&_visualizzadocumento_WAR_visualizzadocumentoportlet_javax.portlet.action=convertUrl&_visualizzadocumento_WAR_visualizzadocumentoportlet_uuid=\"\n",
    "idtoscrape = []\n",
    "for url in pages:\n",
    "    soup = BeautifulSoup(requests.get(url).content, \"html.parser\")\n",
    "    for a in soup.find(\"div\", {\"id\": \"risultati\"}).find_all(\"a\", href=True):\n",
    "        idtoscrape.append(a['href'].replace(\"/visualizza-documento/\",\"\"))"
   ]
  },
  {
   "cell_type": "code",
   "execution_count": 201,
   "metadata": {},
   "outputs": [],
   "source": [
    "files = []\n",
    "for id in idtoscrape:\n",
    "    url = lefturl + id\n",
    "    soup = BeautifulSoup(requests.get(url).content, \"html.parser\")\n",
    "    files.append(soup.find_all(\"a\", {\"class\": \"nopdf\"})[0]['href'])"
   ]
  },
  {
   "cell_type": "code",
   "execution_count": 235,
   "metadata": {},
   "outputs": [],
   "source": [
    "data_toclean = pd.read_xml(files[0],encoding='utf-8', parser='lxml')\n",
    "data_toclean = data_toclean.iloc[2:, :]\n",
    "del data_toclean['TESTO']\n"
   ]
  },
  {
   "cell_type": "code",
   "execution_count": 236,
   "metadata": {},
   "outputs": [],
   "source": [
    "for file in files[1:]:\n",
    "    df = pd.read_xml(file,encoding='utf-8', parser='lxml')\n",
    "    df = df.iloc[2:, :]\n",
    "    del df['TESTO']\n",
    "    #data = data.append(df)\n",
    "    data_toclean = pd.concat([data_toclean, df])\n"
   ]
  },
  {
   "cell_type": "code",
   "execution_count": 292,
   "metadata": {},
   "outputs": [],
   "source": [
    "data = data_toclean\n",
    "data = data.dropna()\n"
   ]
  },
  {
   "cell_type": "code",
   "execution_count": 293,
   "metadata": {},
   "outputs": [
    {
     "name": "stderr",
     "output_type": "stream",
     "text": [
      "/tmp/ipykernel_29434/3374865935.py:1: SettingWithCopyWarning: \n",
      "A value is trying to be set on a copy of a slice from a DataFrame.\n",
      "Try using .loc[row_indexer,col_indexer] = value instead\n",
      "\n",
      "See the caveats in the documentation: https://pandas.pydata.org/pandas-docs/stable/user_guide/indexing.html#returning-a-view-versus-a-copy\n",
      "  data.ARGOMENTO = data.ARGOMENTO.str.replace(\"Pubblicita\", \"Pubblicità\")\n",
      "/tmp/ipykernel_29434/3374865935.py:2: SettingWithCopyWarning: \n",
      "A value is trying to be set on a copy of a slice from a DataFrame.\n",
      "Try using .loc[row_indexer,col_indexer] = value instead\n",
      "\n",
      "See the caveats in the documentation: https://pandas.pydata.org/pandas-docs/stable/user_guide/indexing.html#returning-a-view-versus-a-copy\n",
      "  data.ARGOMENTO = data.ARGOMENTO.str.replace(\"Pubblicit�\", \"Pubblicità\")\n",
      "/tmp/ipykernel_29434/3374865935.py:3: SettingWithCopyWarning: \n",
      "A value is trying to be set on a copy of a slice from a DataFrame.\n",
      "Try using .loc[row_indexer,col_indexer] = value instead\n",
      "\n",
      "See the caveats in the documentation: https://pandas.pydata.org/pandas-docs/stable/user_guide/indexing.html#returning-a-view-versus-a-copy\n",
      "  data.ARGOMENTO = data.ARGOMENTO.str.replace(\"Societa\", \"Società\")\n",
      "/tmp/ipykernel_29434/3374865935.py:4: SettingWithCopyWarning: \n",
      "A value is trying to be set on a copy of a slice from a DataFrame.\n",
      "Try using .loc[row_indexer,col_indexer] = value instead\n",
      "\n",
      "See the caveats in the documentation: https://pandas.pydata.org/pandas-docs/stable/user_guide/indexing.html#returning-a-view-versus-a-copy\n",
      "  data.ARGOMENTO = data.ARGOMENTO.str.replace(\"Societ�\", \"Società\")\n",
      "/tmp/ipykernel_29434/3374865935.py:5: SettingWithCopyWarning: \n",
      "A value is trying to be set on a copy of a slice from a DataFrame.\n",
      "Try using .loc[row_indexer,col_indexer] = value instead\n",
      "\n",
      "See the caveats in the documentation: https://pandas.pydata.org/pandas-docs/stable/user_guide/indexing.html#returning-a-view-versus-a-copy\n",
      "  data.ARGOMENTO = data.ARGOMENTO.str.replace(\n",
      "/tmp/ipykernel_29434/3374865935.py:7: SettingWithCopyWarning: \n",
      "A value is trying to be set on a copy of a slice from a DataFrame.\n",
      "Try using .loc[row_indexer,col_indexer] = value instead\n",
      "\n",
      "See the caveats in the documentation: https://pandas.pydata.org/pandas-docs/stable/user_guide/indexing.html#returning-a-view-versus-a-copy\n",
      "  data.ARGOMENTO = data.ARGOMENTO.str.replace(\n",
      "/tmp/ipykernel_29434/3374865935.py:9: SettingWithCopyWarning: \n",
      "A value is trying to be set on a copy of a slice from a DataFrame.\n",
      "Try using .loc[row_indexer,col_indexer] = value instead\n",
      "\n",
      "See the caveats in the documentation: https://pandas.pydata.org/pandas-docs/stable/user_guide/indexing.html#returning-a-view-versus-a-copy\n",
      "  data.ARGOMENTO = data.ARGOMENTO.str.replace(\"l�Italia\", \"l'Italia\")\n",
      "/tmp/ipykernel_29434/3374865935.py:10: SettingWithCopyWarning: \n",
      "A value is trying to be set on a copy of a slice from a DataFrame.\n",
      "Try using .loc[row_indexer,col_indexer] = value instead\n",
      "\n",
      "See the caveats in the documentation: https://pandas.pydata.org/pandas-docs/stable/user_guide/indexing.html#returning-a-view-versus-a-copy\n",
      "  data.ARGOMENTO = data.ARGOMENTO.str.replace(\"Verit�\", \"Verità\")\n",
      "/tmp/ipykernel_29434/3374865935.py:11: SettingWithCopyWarning: \n",
      "A value is trying to be set on a copy of a slice from a DataFrame.\n",
      "Try using .loc[row_indexer,col_indexer] = value instead\n",
      "\n",
      "See the caveats in the documentation: https://pandas.pydata.org/pandas-docs/stable/user_guide/indexing.html#returning-a-view-versus-a-copy\n",
      "  data.ARGOMENTO = data.ARGOMENTO.str.replace(\"Libert�\", \"Libertà\")\n",
      "/tmp/ipykernel_29434/3374865935.py:12: SettingWithCopyWarning: \n",
      "A value is trying to be set on a copy of a slice from a DataFrame.\n",
      "Try using .loc[row_indexer,col_indexer] = value instead\n",
      "\n",
      "See the caveats in the documentation: https://pandas.pydata.org/pandas-docs/stable/user_guide/indexing.html#returning-a-view-versus-a-copy\n",
      "  data.ARGOMENTO = data.ARGOMENTO.str.replace(\"Costume e societ�\", \"Costume e società\")\n",
      "/tmp/ipykernel_29434/3374865935.py:13: SettingWithCopyWarning: \n",
      "A value is trying to be set on a copy of a slice from a DataFrame.\n",
      "Try using .loc[row_indexer,col_indexer] = value instead\n",
      "\n",
      "See the caveats in the documentation: https://pandas.pydata.org/pandas-docs/stable/user_guide/indexing.html#returning-a-view-versus-a-copy\n",
      "  data.ARGOMENTO = data.ARGOMENTO.str.replace(\"l�Europa\", \"l'Europa\")\n",
      "/tmp/ipykernel_29434/3374865935.py:14: SettingWithCopyWarning: \n",
      "A value is trying to be set on a copy of a slice from a DataFrame.\n",
      "Try using .loc[row_indexer,col_indexer] = value instead\n",
      "\n",
      "See the caveats in the documentation: https://pandas.pydata.org/pandas-docs/stable/user_guide/indexing.html#returning-a-view-versus-a-copy\n",
      "  data.ARGOMENTO = data.ARGOMENTO.str.replace(\"L�Alternativa c��!\", \"L'Alternativa c'è!\")\n",
      "/tmp/ipykernel_29434/3374865935.py:16: SettingWithCopyWarning: \n",
      "A value is trying to be set on a copy of a slice from a DataFrame.\n",
      "Try using .loc[row_indexer,col_indexer] = value instead\n",
      "\n",
      "See the caveats in the documentation: https://pandas.pydata.org/pandas-docs/stable/user_guide/indexing.html#returning-a-view-versus-a-copy\n",
      "  data.ARGOMENTO = data.ARGOMENTO.str.replace(\"Noi con l'Italia�USEI�Rinascimento-AdC\", \"Noi con l'Italia-USEI-Rinascimento-AdC\")\n",
      "/tmp/ipykernel_29434/3374865935.py:18: SettingWithCopyWarning: \n",
      "A value is trying to be set on a copy of a slice from a DataFrame.\n",
      "Try using .loc[row_indexer,col_indexer] = value instead\n",
      "\n",
      "See the caveats in the documentation: https://pandas.pydata.org/pandas-docs/stable/user_guide/indexing.html#returning-a-view-versus-a-copy\n",
      "  data.ARGOMENTO = data.ARGOMENTO.str.replace(\n"
     ]
    }
   ],
   "source": [
    "data.ARGOMENTO = data.ARGOMENTO.str.replace(\"Pubblicita\", \"Pubblicità\")\n",
    "data.ARGOMENTO = data.ARGOMENTO.str.replace(\"Pubblicit�\", \"Pubblicità\")\n",
    "data.ARGOMENTO = data.ARGOMENTO.str.replace(\"Societa\", \"Società\")\n",
    "data.ARGOMENTO = data.ARGOMENTO.str.replace(\"Societ�\", \"Società\")\n",
    "data.ARGOMENTO = data.ARGOMENTO.str.replace(\n",
    "    \"LAlternativa c�\", \"L'Alternativa c'è!\")\n",
    "data.ARGOMENTO = data.ARGOMENTO.str.replace(\n",
    "    \"L�Alternativa c��\", \"L'Alternativa c'è!\")\n",
    "data.ARGOMENTO = data.ARGOMENTO.str.replace(\"l�Italia\", \"l'Italia\")\n",
    "data.ARGOMENTO = data.ARGOMENTO.str.replace(\"Verit�\", \"Verità\")\n",
    "data.ARGOMENTO = data.ARGOMENTO.str.replace(\"Libert�\", \"Libertà\")\n",
    "data.ARGOMENTO = data.ARGOMENTO.str.replace(\"Costume e societ�\", \"Costume e società\")\n",
    "data.ARGOMENTO = data.ARGOMENTO.str.replace(\"l�Europa\", \"l'Europa\")\n",
    "data.ARGOMENTO = data.ARGOMENTO.str.replace(\"L�Alternativa c��!\", \"L'Alternativa c'è!\")\n",
    "#data.ARGOMENTO = data.ARGOMENTO.str.replace(\"+ Europa\", \"+Europa\")\n",
    "data.ARGOMENTO = data.ARGOMENTO.str.replace(\"Noi con l'Italia�USEI�Rinascimento-AdC\", \"Noi con l'Italia-USEI-Rinascimento-AdC\")\n",
    "#data.ARGOMENTO = data.ARGOMENTO.str.replace(\"+ Europa\", \"+Europa\")\n",
    "data.ARGOMENTO = data.ARGOMENTO.str.replace(\n",
    "    \"Politica e attivit� istituzionali\", \"Politica e attività istituzionali\")\n"
   ]
  },
  {
   "cell_type": "code",
   "execution_count": 294,
   "metadata": {},
   "outputs": [
    {
     "data": {
      "text/plain": [
       "array(['Politica e attività istituzionali', 'Cronaca',\n",
       "       'Medicina, salute e scienza', 'Cultura e istruzione',\n",
       "       'Economia, finanza e lavoro', 'Programma', 'Società', 'Ambiente',\n",
       "       'Costume e società', 'Giustizia', 'Esteri', 'Sport', 'Altro',\n",
       "       'Mass media e spettacolo', 'Religione e questioni religiose',\n",
       "       'Fine', 'Informazioni di servizio',\n",
       "       'Politica e attivita istituzionali', 'Costume e societa',\n",
       "       'Pubblicità'], dtype=object)"
      ]
     },
     "execution_count": 294,
     "metadata": {},
     "output_type": "execute_result"
    }
   ],
   "source": [
    "data.ARGOMENTO.unique()"
   ]
  },
  {
   "cell_type": "code",
   "execution_count": 295,
   "metadata": {},
   "outputs": [
    {
     "name": "stderr",
     "output_type": "stream",
     "text": [
      "/tmp/ipykernel_29434/1106088046.py:1: SettingWithCopyWarning: \n",
      "A value is trying to be set on a copy of a slice from a DataFrame.\n",
      "Try using .loc[row_indexer,col_indexer] = value instead\n",
      "\n",
      "See the caveats in the documentation: https://pandas.pydata.org/pandas-docs/stable/user_guide/indexing.html#returning-a-view-versus-a-copy\n",
      "  data.MICRO_CATEGORIA = data.MICRO_CATEGORIA.str.replace(\"LAlternativa c�\", \"L'Alternativa c'è!\")\n",
      "/tmp/ipykernel_29434/1106088046.py:2: SettingWithCopyWarning: \n",
      "A value is trying to be set on a copy of a slice from a DataFrame.\n",
      "Try using .loc[row_indexer,col_indexer] = value instead\n",
      "\n",
      "See the caveats in the documentation: https://pandas.pydata.org/pandas-docs/stable/user_guide/indexing.html#returning-a-view-versus-a-copy\n",
      "  data.MICRO_CATEGORIA = data.MICRO_CATEGORIA.str.replace(\"L�Alternativa c��\",\"L'Alternativa c'è!\")\n",
      "/tmp/ipykernel_29434/1106088046.py:3: SettingWithCopyWarning: \n",
      "A value is trying to be set on a copy of a slice from a DataFrame.\n",
      "Try using .loc[row_indexer,col_indexer] = value instead\n",
      "\n",
      "See the caveats in the documentation: https://pandas.pydata.org/pandas-docs/stable/user_guide/indexing.html#returning-a-view-versus-a-copy\n",
      "  data.MICRO_CATEGORIA = data.MICRO_CATEGORIA.str.replace(\"l�Italia\", \"l'Italia\")\n",
      "/tmp/ipykernel_29434/1106088046.py:4: SettingWithCopyWarning: \n",
      "A value is trying to be set on a copy of a slice from a DataFrame.\n",
      "Try using .loc[row_indexer,col_indexer] = value instead\n",
      "\n",
      "See the caveats in the documentation: https://pandas.pydata.org/pandas-docs/stable/user_guide/indexing.html#returning-a-view-versus-a-copy\n",
      "  data.MICRO_CATEGORIA = data.MICRO_CATEGORIA.str.replace(\"Verit�\", \"Verità\")\n",
      "/tmp/ipykernel_29434/1106088046.py:5: SettingWithCopyWarning: \n",
      "A value is trying to be set on a copy of a slice from a DataFrame.\n",
      "Try using .loc[row_indexer,col_indexer] = value instead\n",
      "\n",
      "See the caveats in the documentation: https://pandas.pydata.org/pandas-docs/stable/user_guide/indexing.html#returning-a-view-versus-a-copy\n",
      "  data.MICRO_CATEGORIA = data.MICRO_CATEGORIA.str.replace(\"Libert�\", \"Libertà\")\n",
      "/tmp/ipykernel_29434/1106088046.py:6: SettingWithCopyWarning: \n",
      "A value is trying to be set on a copy of a slice from a DataFrame.\n",
      "Try using .loc[row_indexer,col_indexer] = value instead\n",
      "\n",
      "See the caveats in the documentation: https://pandas.pydata.org/pandas-docs/stable/user_guide/indexing.html#returning-a-view-versus-a-copy\n",
      "  data.MICRO_CATEGORIA = data.MICRO_CATEGORIA.str.replace(\"libert�\", \"Libertà\")\n",
      "/tmp/ipykernel_29434/1106088046.py:7: SettingWithCopyWarning: \n",
      "A value is trying to be set on a copy of a slice from a DataFrame.\n",
      "Try using .loc[row_indexer,col_indexer] = value instead\n",
      "\n",
      "See the caveats in the documentation: https://pandas.pydata.org/pandas-docs/stable/user_guide/indexing.html#returning-a-view-versus-a-copy\n",
      "  data.MICRO_CATEGORIA = data.MICRO_CATEGORIA.str.replace(\"l�Europa\",\"l'Europa\")\n",
      "/tmp/ipykernel_29434/1106088046.py:8: SettingWithCopyWarning: \n",
      "A value is trying to be set on a copy of a slice from a DataFrame.\n",
      "Try using .loc[row_indexer,col_indexer] = value instead\n",
      "\n",
      "See the caveats in the documentation: https://pandas.pydata.org/pandas-docs/stable/user_guide/indexing.html#returning-a-view-versus-a-copy\n",
      "  data.MICRO_CATEGORIA = data.MICRO_CATEGORIA.str.replace(\"L�Alternativa c��!\", \"L'Alternativa c'è!\")\n",
      "/tmp/ipykernel_29434/1106088046.py:10: SettingWithCopyWarning: \n",
      "A value is trying to be set on a copy of a slice from a DataFrame.\n",
      "Try using .loc[row_indexer,col_indexer] = value instead\n",
      "\n",
      "See the caveats in the documentation: https://pandas.pydata.org/pandas-docs/stable/user_guide/indexing.html#returning-a-view-versus-a-copy\n",
      "  data.MICRO_CATEGORIA = data.MICRO_CATEGORIA.str.replace(\n",
      "/tmp/ipykernel_29434/1106088046.py:12: FutureWarning: The default value of regex will change from True to False in a future version.\n",
      "  data.MICRO_CATEGORIA = data.MICRO_CATEGORIA.str.replace(\n",
      "/tmp/ipykernel_29434/1106088046.py:12: SettingWithCopyWarning: \n",
      "A value is trying to be set on a copy of a slice from a DataFrame.\n",
      "Try using .loc[row_indexer,col_indexer] = value instead\n",
      "\n",
      "See the caveats in the documentation: https://pandas.pydata.org/pandas-docs/stable/user_guide/indexing.html#returning-a-view-versus-a-copy\n",
      "  data.MICRO_CATEGORIA = data.MICRO_CATEGORIA.str.replace(\n",
      "/tmp/ipykernel_29434/1106088046.py:15: SettingWithCopyWarning: \n",
      "A value is trying to be set on a copy of a slice from a DataFrame.\n",
      "Try using .loc[row_indexer,col_indexer] = value instead\n",
      "\n",
      "See the caveats in the documentation: https://pandas.pydata.org/pandas-docs/stable/user_guide/indexing.html#returning-a-view-versus-a-copy\n",
      "  data.MICRO_CATEGORIA = data.MICRO_CATEGORIA.str.replace(\n",
      "/tmp/ipykernel_29434/1106088046.py:17: SettingWithCopyWarning: \n",
      "A value is trying to be set on a copy of a slice from a DataFrame.\n",
      "Try using .loc[row_indexer,col_indexer] = value instead\n",
      "\n",
      "See the caveats in the documentation: https://pandas.pydata.org/pandas-docs/stable/user_guide/indexing.html#returning-a-view-versus-a-copy\n",
      "  data.MICRO_CATEGORIA = data.MICRO_CATEGORIA.str.replace(\"Facciamo Eco � Federazione dei Verdi\", \"Facciamo Eco - Federazione dei Verdi\")\n"
     ]
    }
   ],
   "source": [
    "data.MICRO_CATEGORIA = data.MICRO_CATEGORIA.str.replace(\"LAlternativa c�\", \"L'Alternativa c'è!\")\n",
    "data.MICRO_CATEGORIA = data.MICRO_CATEGORIA.str.replace(\"L�Alternativa c��\",\"L'Alternativa c'è!\")\n",
    "data.MICRO_CATEGORIA = data.MICRO_CATEGORIA.str.replace(\"l�Italia\", \"l'Italia\")\n",
    "data.MICRO_CATEGORIA = data.MICRO_CATEGORIA.str.replace(\"Verit�\", \"Verità\")\n",
    "data.MICRO_CATEGORIA = data.MICRO_CATEGORIA.str.replace(\"Libert�\", \"Libertà\")\n",
    "data.MICRO_CATEGORIA = data.MICRO_CATEGORIA.str.replace(\"libert�\", \"Libertà\")\n",
    "data.MICRO_CATEGORIA = data.MICRO_CATEGORIA.str.replace(\"l�Europa\",\"l'Europa\")\n",
    "data.MICRO_CATEGORIA = data.MICRO_CATEGORIA.str.replace(\"L�Alternativa c��!\", \"L'Alternativa c'è!\")\n",
    "#data.MICRO_CATEGORIA = data.MICRO_CATEGORIA.str.replace(\"+ Europa\", \"+Europa\")\n",
    "data.MICRO_CATEGORIA = data.MICRO_CATEGORIA.str.replace(\n",
    "    \"Noi con l'Italia�USEI�Rinascimento-AdC\", \"Noi con l'Italia - USEI - Rinascimento - Alleanza di Centro\")\n",
    "data.MICRO_CATEGORIA = data.MICRO_CATEGORIA.str.replace(\n",
    "    \"Noi con l?Italia-USEI-Cambiamo!- Alleanza di Centro\", \"Noi con l'Italia - USEI - Cambiamo! - Alleanza di Centro\")\n",
    "\n",
    "data.MICRO_CATEGORIA = data.MICRO_CATEGORIA.str.replace(\n",
    "    \"�Centro Democratico\", \" - Centro Democratico\")\n",
    "data.MICRO_CATEGORIA = data.MICRO_CATEGORIA.str.replace(\"Facciamo Eco � Federazione dei Verdi\", \"Facciamo Eco - Federazione dei Verdi\")\n"
   ]
  },
  {
   "cell_type": "code",
   "execution_count": 298,
   "metadata": {},
   "outputs": [
    {
     "data": {
      "text/plain": [
       "array(['Politica e attività istituzionali', 'Cronaca',\n",
       "       'Medicina, salute e scienza', 'Cultura e istruzione',\n",
       "       'Economia, finanza e lavoro', 'Programma', 'Società', 'Ambiente',\n",
       "       'Costume e società', 'Giustizia', 'Esteri', 'Sport', 'Altro',\n",
       "       'Mass media e spettacolo', 'Religione e questioni religiose',\n",
       "       'Fine', 'Informazioni di servizio',\n",
       "       'Politica e attivita istituzionali', 'Costume e societa',\n",
       "       'Pubblicità'], dtype=object)"
      ]
     },
     "execution_count": 298,
     "metadata": {},
     "output_type": "execute_result"
    }
   ],
   "source": [
    "data.ARGOMENTO.unique()"
   ]
  },
  {
   "cell_type": "code",
   "execution_count": 304,
   "metadata": {},
   "outputs": [
    {
     "name": "stderr",
     "output_type": "stream",
     "text": [
      "/tmp/ipykernel_29434/1847900418.py:1: SettingWithCopyWarning: \n",
      "A value is trying to be set on a copy of a slice from a DataFrame.\n",
      "Try using .loc[row_indexer,col_indexer] = value instead\n",
      "\n",
      "See the caveats in the documentation: https://pandas.pydata.org/pandas-docs/stable/user_guide/indexing.html#returning-a-view-versus-a-copy\n",
      "  data.DURATA = data.DURATA.astype(int)\n"
     ]
    }
   ],
   "source": [
    "data.DURATA = data.DURATA.astype(int)"
   ]
  },
  {
   "cell_type": "code",
   "execution_count": 306,
   "metadata": {},
   "outputs": [],
   "source": [
    "data.to_parquet(\"..\" + os.sep + \"data\" + os.sep + \"dati_presenze_politici.parquet\")"
   ]
  }
 ],
 "metadata": {
  "kernelspec": {
   "display_name": "Python 3.10.4 64-bit",
   "language": "python",
   "name": "python3"
  },
  "language_info": {
   "codemirror_mode": {
    "name": "ipython",
    "version": 3
   },
   "file_extension": ".py",
   "mimetype": "text/x-python",
   "name": "python",
   "nbconvert_exporter": "python",
   "pygments_lexer": "ipython3",
   "version": "3.10.4"
  },
  "orig_nbformat": 4,
  "vscode": {
   "interpreter": {
    "hash": "31f2aee4e71d21fbe5cf8b01ff0e069b9275f58929596ceb00d14d90e3e16cd6"
   }
  }
 },
 "nbformat": 4,
 "nbformat_minor": 2
}
