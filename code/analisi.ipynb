{
 "cells": [
  {
   "cell_type": "markdown",
   "metadata": {},
   "source": [
    "# Setup"
   ]
  },
  {
   "cell_type": "code",
   "execution_count": 1,
   "metadata": {},
   "outputs": [],
   "source": [
    "import pandas as pd\n",
    "import os\n",
    "import numpy as np\n",
    "import json\n"
   ]
  },
  {
   "cell_type": "code",
   "execution_count": 2,
   "metadata": {},
   "outputs": [],
   "source": [
    "data = pd.read_parquet(\"..\" + os.sep + \"data\" + os.sep +\n",
    "                \"dati_presenze_politici.parquet\")\n"
   ]
  },
  {
   "cell_type": "markdown",
   "metadata": {},
   "source": [
    "trasformazione delle date in oggetti datetime"
   ]
  },
  {
   "cell_type": "code",
   "execution_count": 3,
   "metadata": {},
   "outputs": [],
   "source": [
    "#data['DATA'] = data['DATA'].apply(lambda x: x.replace(\" 00:00\",\"\"))\n",
    "#data['DATA'] = data['DATA'].apply(lambda x: x.replace(\":00\",\"\"))\n",
    "#data.DATA = pd.to_datetime(data[\"DATA\"],  format=\"%d.%m.%Y\")\n"
   ]
  },
  {
   "cell_type": "code",
   "execution_count": 4,
   "metadata": {},
   "outputs": [
    {
     "data": {
      "text/html": [
       "<div>\n",
       "<style scoped>\n",
       "    .dataframe tbody tr th:only-of-type {\n",
       "        vertical-align: middle;\n",
       "    }\n",
       "\n",
       "    .dataframe tbody tr th {\n",
       "        vertical-align: top;\n",
       "    }\n",
       "\n",
       "    .dataframe thead th {\n",
       "        text-align: right;\n",
       "    }\n",
       "</style>\n",
       "<table border=\"1\" class=\"dataframe\">\n",
       "  <thead>\n",
       "    <tr style=\"text-align: right;\">\n",
       "      <th></th>\n",
       "      <th>CANALE</th>\n",
       "      <th>PROGRAMMA</th>\n",
       "      <th>DATA</th>\n",
       "      <th>COGNOME</th>\n",
       "      <th>NOME</th>\n",
       "      <th>MICRO_CATEGORIA</th>\n",
       "      <th>ARGOMENTO</th>\n",
       "      <th>DURATA</th>\n",
       "      <th>TIPO_TEMPO</th>\n",
       "    </tr>\n",
       "  </thead>\n",
       "  <tbody>\n",
       "    <tr>\n",
       "      <th>2</th>\n",
       "      <td>CANALE 5</td>\n",
       "      <td>TG5</td>\n",
       "      <td>2022-01-01</td>\n",
       "      <td>Berlusconi</td>\n",
       "      <td>Silvio</td>\n",
       "      <td>PDL - Forza Italia</td>\n",
       "      <td>Politica e attività istituzionali</td>\n",
       "      <td>42</td>\n",
       "      <td>Notizia</td>\n",
       "    </tr>\n",
       "    <tr>\n",
       "      <th>3</th>\n",
       "      <td>CANALE 5</td>\n",
       "      <td>TG5</td>\n",
       "      <td>2022-01-01</td>\n",
       "      <td>Calenda</td>\n",
       "      <td>Carlo</td>\n",
       "      <td>Azione - +Europa - Radicali Italiani</td>\n",
       "      <td>Politica e attività istituzionali</td>\n",
       "      <td>6</td>\n",
       "      <td>Notizia</td>\n",
       "    </tr>\n",
       "    <tr>\n",
       "      <th>4</th>\n",
       "      <td>CANALE 5</td>\n",
       "      <td>TG5</td>\n",
       "      <td>2022-01-01</td>\n",
       "      <td>Conte</td>\n",
       "      <td>Giuseppe</td>\n",
       "      <td>Movimento 5 Stelle</td>\n",
       "      <td>Politica e attività istituzionali</td>\n",
       "      <td>36</td>\n",
       "      <td>Notizia</td>\n",
       "    </tr>\n",
       "    <tr>\n",
       "      <th>5</th>\n",
       "      <td>CANALE 5</td>\n",
       "      <td>TG5</td>\n",
       "      <td>2022-01-01</td>\n",
       "      <td>D'Amato</td>\n",
       "      <td>Alessio</td>\n",
       "      <td>Partito Democratico</td>\n",
       "      <td>Cronaca</td>\n",
       "      <td>3</td>\n",
       "      <td>Notizia</td>\n",
       "    </tr>\n",
       "  </tbody>\n",
       "</table>\n",
       "</div>"
      ],
      "text/plain": [
       "     CANALE PROGRAMMA       DATA     COGNOME      NOME  \\\n",
       "2  CANALE 5       TG5 2022-01-01  Berlusconi    Silvio   \n",
       "3  CANALE 5       TG5 2022-01-01     Calenda     Carlo   \n",
       "4  CANALE 5       TG5 2022-01-01       Conte  Giuseppe   \n",
       "5  CANALE 5       TG5 2022-01-01     D'Amato   Alessio   \n",
       "\n",
       "                        MICRO_CATEGORIA                          ARGOMENTO  \\\n",
       "2                    PDL - Forza Italia  Politica e attività istituzionali   \n",
       "3  Azione - +Europa - Radicali Italiani  Politica e attività istituzionali   \n",
       "4                    Movimento 5 Stelle  Politica e attività istituzionali   \n",
       "5                   Partito Democratico                            Cronaca   \n",
       "\n",
       "   DURATA TIPO_TEMPO  \n",
       "2      42    Notizia  \n",
       "3       6    Notizia  \n",
       "4      36    Notizia  \n",
       "5       3    Notizia  "
      ]
     },
     "execution_count": 4,
     "metadata": {},
     "output_type": "execute_result"
    }
   ],
   "source": [
    "data.head(4)"
   ]
  },
  {
   "cell_type": "code",
   "execution_count": 5,
   "metadata": {},
   "outputs": [],
   "source": [
    "def data2json(data, outfile, outpath=\"..\" + os.sep + \"docs\" + os.sep + \"data\" + os.sep):\n",
    "    json_data = json.dumps(data)\n",
    "    json_file = open(outpath+outfile, \"w\")\n",
    "    json_file.write(json_data)\n",
    "    json_file.close()\n",
    "\n"
   ]
  },
  {
   "cell_type": "markdown",
   "metadata": {},
   "source": [
    "# Soggetto collettivo"
   ]
  },
  {
   "cell_type": "markdown",
   "metadata": {},
   "source": [
    "filtro per soggetti collettivo"
   ]
  },
  {
   "cell_type": "code",
   "execution_count": 16,
   "metadata": {},
   "outputs": [],
   "source": [
    "dati_soggetti_colletivi = data[data.NOME ==\"Soggetto Collettivo\"]\n",
    "#dati_soggetti_colletivi = dati_soggetti_colletivi[dati_soggetti_colletivi.NOME ==\n",
    "#                                        \"Soggettivo Collettivo\"]"
   ]
  },
  {
   "cell_type": "markdown",
   "metadata": {},
   "source": [
    "## Distribuzione Interventi ed argomenti per Soggetti Collettivi"
   ]
  },
  {
   "cell_type": "code",
   "execution_count": 18,
   "metadata": {},
   "outputs": [],
   "source": [
    "minuti_soggetti_collettivi = dati_soggetti_colletivi.groupby([\"COGNOME\"])[\"DURATA\"].sum().reset_index().fillna(0).sort_values(by=\"DURATA\", ascending=False)"
   ]
  },
  {
   "cell_type": "code",
   "execution_count": 26,
   "metadata": {},
   "outputs": [
    {
     "data": {
      "text/html": [
       "<div>\n",
       "<style scoped>\n",
       "    .dataframe tbody tr th:only-of-type {\n",
       "        vertical-align: middle;\n",
       "    }\n",
       "\n",
       "    .dataframe tbody tr th {\n",
       "        vertical-align: top;\n",
       "    }\n",
       "\n",
       "    .dataframe thead th {\n",
       "        text-align: right;\n",
       "    }\n",
       "</style>\n",
       "<table border=\"1\" class=\"dataframe\">\n",
       "  <thead>\n",
       "    <tr style=\"text-align: right;\">\n",
       "      <th></th>\n",
       "      <th>CANALE</th>\n",
       "      <th>PROGRAMMA</th>\n",
       "      <th>DATA</th>\n",
       "      <th>COGNOME</th>\n",
       "      <th>NOME</th>\n",
       "      <th>MICRO_CATEGORIA</th>\n",
       "      <th>ARGOMENTO</th>\n",
       "      <th>DURATA</th>\n",
       "      <th>TIPO_TEMPO</th>\n",
       "    </tr>\n",
       "  </thead>\n",
       "  <tbody>\n",
       "    <tr>\n",
       "      <th>71</th>\n",
       "      <td>CANALE 5</td>\n",
       "      <td>TG5</td>\n",
       "      <td>2022-01-04</td>\n",
       "      <td>Lega Nord</td>\n",
       "      <td>Soggetto Collettivo</td>\n",
       "      <td>Lega Nord</td>\n",
       "      <td>Economia, finanza e lavoro</td>\n",
       "      <td>2</td>\n",
       "      <td>Notizia</td>\n",
       "    </tr>\n",
       "    <tr>\n",
       "      <th>72</th>\n",
       "      <td>CANALE 5</td>\n",
       "      <td>TG5</td>\n",
       "      <td>2022-01-04</td>\n",
       "      <td>Lega Nord</td>\n",
       "      <td>Soggetto Collettivo</td>\n",
       "      <td>Lega Nord</td>\n",
       "      <td>Medicina, salute e scienza</td>\n",
       "      <td>3</td>\n",
       "      <td>Notizia</td>\n",
       "    </tr>\n",
       "    <tr>\n",
       "      <th>74</th>\n",
       "      <td>CANALE 5</td>\n",
       "      <td>TG5</td>\n",
       "      <td>2022-01-04</td>\n",
       "      <td>Movimento 5 Stelle</td>\n",
       "      <td>Soggetto Collettivo</td>\n",
       "      <td>Movimento 5 Stelle</td>\n",
       "      <td>Economia, finanza e lavoro</td>\n",
       "      <td>2</td>\n",
       "      <td>Notizia</td>\n",
       "    </tr>\n",
       "    <tr>\n",
       "      <th>75</th>\n",
       "      <td>CANALE 5</td>\n",
       "      <td>TG5</td>\n",
       "      <td>2022-01-04</td>\n",
       "      <td>Movimento 5 Stelle</td>\n",
       "      <td>Soggetto Collettivo</td>\n",
       "      <td>Movimento 5 Stelle</td>\n",
       "      <td>Medicina, salute e scienza</td>\n",
       "      <td>3</td>\n",
       "      <td>Notizia</td>\n",
       "    </tr>\n",
       "    <tr>\n",
       "      <th>97</th>\n",
       "      <td>CANALE 5</td>\n",
       "      <td>TG5</td>\n",
       "      <td>2022-01-05</td>\n",
       "      <td>Partito Democratico</td>\n",
       "      <td>Soggetto Collettivo</td>\n",
       "      <td>Partito Democratico</td>\n",
       "      <td>Cultura e istruzione</td>\n",
       "      <td>3</td>\n",
       "      <td>Notizia</td>\n",
       "    </tr>\n",
       "    <tr>\n",
       "      <th>...</th>\n",
       "      <td>...</td>\n",
       "      <td>...</td>\n",
       "      <td>...</td>\n",
       "      <td>...</td>\n",
       "      <td>...</td>\n",
       "      <td>...</td>\n",
       "      <td>...</td>\n",
       "      <td>...</td>\n",
       "      <td>...</td>\n",
       "    </tr>\n",
       "    <tr>\n",
       "      <th>26860</th>\n",
       "      <td>RETE 4</td>\n",
       "      <td>TG4</td>\n",
       "      <td>2021-01-31</td>\n",
       "      <td>Partito Democratico</td>\n",
       "      <td>Soggetto Collettivo</td>\n",
       "      <td>Partito Democratico</td>\n",
       "      <td>Economia, finanza e lavoro</td>\n",
       "      <td>5</td>\n",
       "      <td>Notizia</td>\n",
       "    </tr>\n",
       "    <tr>\n",
       "      <th>29526</th>\n",
       "      <td>RAINEWS</td>\n",
       "      <td>RAI NEWS</td>\n",
       "      <td>2021-01-28</td>\n",
       "      <td>Lega Nord</td>\n",
       "      <td>Soggetto Collettivo</td>\n",
       "      <td>Lega Nord</td>\n",
       "      <td>Cronaca</td>\n",
       "      <td>4</td>\n",
       "      <td>Notizia</td>\n",
       "    </tr>\n",
       "    <tr>\n",
       "      <th>29977</th>\n",
       "      <td>SKY TG 24 CAN. 50</td>\n",
       "      <td>SKY TG24</td>\n",
       "      <td>2021-01-07</td>\n",
       "      <td>Lega Nord</td>\n",
       "      <td>Soggetto Collettivo</td>\n",
       "      <td>Lega Nord</td>\n",
       "      <td>Esteri</td>\n",
       "      <td>9</td>\n",
       "      <td>Notizia</td>\n",
       "    </tr>\n",
       "    <tr>\n",
       "      <th>30204</th>\n",
       "      <td>SKY TG24</td>\n",
       "      <td>SKY TG24</td>\n",
       "      <td>2021-01-03</td>\n",
       "      <td>Lega Nord</td>\n",
       "      <td>Soggetto Collettivo</td>\n",
       "      <td>Lega Nord</td>\n",
       "      <td>Cronaca</td>\n",
       "      <td>2</td>\n",
       "      <td>Notizia</td>\n",
       "    </tr>\n",
       "    <tr>\n",
       "      <th>30226</th>\n",
       "      <td>SKY TG24</td>\n",
       "      <td>SKY TG24</td>\n",
       "      <td>2021-01-07</td>\n",
       "      <td>Fratelli d'Italia Centrodestra Nazionale</td>\n",
       "      <td>Soggetto Collettivo</td>\n",
       "      <td>Fratelli d'Italia</td>\n",
       "      <td>Esteri</td>\n",
       "      <td>7</td>\n",
       "      <td>Notizia</td>\n",
       "    </tr>\n",
       "  </tbody>\n",
       "</table>\n",
       "<p>14016 rows × 9 columns</p>\n",
       "</div>"
      ],
      "text/plain": [
       "                  CANALE PROGRAMMA       DATA  \\\n",
       "71              CANALE 5       TG5 2022-01-04   \n",
       "72              CANALE 5       TG5 2022-01-04   \n",
       "74              CANALE 5       TG5 2022-01-04   \n",
       "75              CANALE 5       TG5 2022-01-04   \n",
       "97              CANALE 5       TG5 2022-01-05   \n",
       "...                  ...       ...        ...   \n",
       "26860             RETE 4       TG4 2021-01-31   \n",
       "29526            RAINEWS  RAI NEWS 2021-01-28   \n",
       "29977  SKY TG 24 CAN. 50  SKY TG24 2021-01-07   \n",
       "30204           SKY TG24  SKY TG24 2021-01-03   \n",
       "30226           SKY TG24  SKY TG24 2021-01-07   \n",
       "\n",
       "                                        COGNOME                 NOME  \\\n",
       "71                                    Lega Nord  Soggetto Collettivo   \n",
       "72                                    Lega Nord  Soggetto Collettivo   \n",
       "74                           Movimento 5 Stelle  Soggetto Collettivo   \n",
       "75                           Movimento 5 Stelle  Soggetto Collettivo   \n",
       "97                          Partito Democratico  Soggetto Collettivo   \n",
       "...                                         ...                  ...   \n",
       "26860                       Partito Democratico  Soggetto Collettivo   \n",
       "29526                                 Lega Nord  Soggetto Collettivo   \n",
       "29977                                 Lega Nord  Soggetto Collettivo   \n",
       "30204                                 Lega Nord  Soggetto Collettivo   \n",
       "30226  Fratelli d'Italia Centrodestra Nazionale  Soggetto Collettivo   \n",
       "\n",
       "           MICRO_CATEGORIA                   ARGOMENTO  DURATA TIPO_TEMPO  \n",
       "71               Lega Nord  Economia, finanza e lavoro       2    Notizia  \n",
       "72               Lega Nord  Medicina, salute e scienza       3    Notizia  \n",
       "74      Movimento 5 Stelle  Economia, finanza e lavoro       2    Notizia  \n",
       "75      Movimento 5 Stelle  Medicina, salute e scienza       3    Notizia  \n",
       "97     Partito Democratico        Cultura e istruzione       3    Notizia  \n",
       "...                    ...                         ...     ...        ...  \n",
       "26860  Partito Democratico  Economia, finanza e lavoro       5    Notizia  \n",
       "29526            Lega Nord                     Cronaca       4    Notizia  \n",
       "29977            Lega Nord                      Esteri       9    Notizia  \n",
       "30204            Lega Nord                     Cronaca       2    Notizia  \n",
       "30226    Fratelli d'Italia                      Esteri       7    Notizia  \n",
       "\n",
       "[14016 rows x 9 columns]"
      ]
     },
     "execution_count": 26,
     "metadata": {},
     "output_type": "execute_result"
    }
   ],
   "source": [
    "dati_soggetti_colletivi[dati_soggetti_colletivi.ARGOMENTO != \"Politica e attività istituzionali\"]\n"
   ]
  },
  {
   "cell_type": "code",
   "execution_count": 19,
   "metadata": {},
   "outputs": [],
   "source": [
    "categorie_argomento = list(dati_soggetti_colletivi.ARGOMENTO.unique())"
   ]
  },
  {
   "cell_type": "code",
   "execution_count": 9,
   "metadata": {},
   "outputs": [],
   "source": [
    "color18 = [\n",
    "    '#38b6b6', #1\n",
    "    '#d5b158', #2\n",
    "    '#3cb371', #3\n",
    "    '#ff6666', #4\n",
    "    '#6699ff', #5\n",
    "    '#eaf889', #6\n",
    "    '#0a915d', #7\n",
    "    '#a092f1', #8 \n",
    "    '#ff6347', #9\n",
    "    '#82b6e9', #10\n",
    "    '#2e4783', #11\n",
    "    '#dcc392', #12\n",
    "    '#d3758f', #13\n",
    "    '#f3d999', #14\n",
    "    '#a4d8c2', #15\n",
    "    '#c6b38e',  #16\n",
    "    '#b8d2c7', #17\n",
    "    '#f5e8c8' #18\n",
    "]"
   ]
  },
  {
   "cell_type": "code",
   "execution_count": 20,
   "metadata": {},
   "outputs": [],
   "source": [
    "coloriCategorie = {}\n",
    "for categoria in categorie_argomento:\n",
    "    coloriCategorie[categoria] = color18[categorie_argomento.index(\n",
    "        categoria)]\n"
   ]
  },
  {
   "cell_type": "code",
   "execution_count": 24,
   "metadata": {},
   "outputs": [],
   "source": [
    "data_distro_interventi = {}\n",
    "data_argomenti_movimenti = {}\n",
    "oggetti_distro_interventi = []\n",
    "label_notizia = \"notizia\"\n",
    "label_intervento = \"intervento\"\n",
    "for idx,row in minuti_soggetti_collettivi.iterrows():\n",
    "    root = {}\n",
    "    name = row.COGNOME\n",
    "    root['name'] = name\n",
    "    value = round(row.DURATA / 60,2)   \n",
    "    root['value'] = value\n",
    "    label = {}\n",
    "    label['show'] = 'true'\n",
    "    formatter = name + \"\\n\" + str(value) + \" ore\\n\"\n",
    "    label['formatter'] = formatter\n",
    "    root['label'] = label\n",
    "    itemStyle = {}\n",
    "    itemStyle['borderWidth'] =1\n",
    "    itemStyle['borderColor'] = '#000000'\n",
    "    itemStyle['opacity'] = 0.5\n",
    "    root['itemStyle'] = itemStyle\n",
    "    oggetti_distro_interventi.append(root)\n",
    "    data_distro_interventi[\"dati\"] = oggetti_distro_interventi\n",
    "    \n",
    "data2json(data_distro_interventi, \"presenza_movimenti.json\")"
   ]
  },
  {
   "cell_type": "code",
   "execution_count": 13,
   "metadata": {},
   "outputs": [
    {
     "ename": "IndentationError",
     "evalue": "unindent does not match any outer indentation level (<tokenize>, line 24)",
     "output_type": "error",
     "traceback": [
      "\u001b[0;36m  File \u001b[0;32m\"<tokenize>\"\u001b[0;36m, line \u001b[0;32m24\u001b[0m\n\u001b[0;31m    if row.ARGOMENTO != jump:\u001b[0m\n\u001b[0m    ^\u001b[0m\n\u001b[0;31mIndentationError\u001b[0m\u001b[0;31m:\u001b[0m unindent does not match any outer indentation level\n"
     ]
    }
   ],
   "source": [
    "jump = \"Politica e attivit\\u00e0 istituzionali\"\n",
    "sankey_data_name = []\n",
    "sankey_data_links = []\n",
    "sankey_data = {}\n",
    "for categoria in categorie_argomento:\n",
    "    if categoria != jump:\n",
    "        name_sankey = {}\n",
    "        name_sankey['name'] = categoria\n",
    "        sankey_data_name.append(name_sankey)\n",
    "    addargomenti = True\n",
    "    dati_soggetto_collettivo = data[data.COGNOME == name]\n",
    "    argomenti = dati_soggetto_collettivo.groupby([\"ARGOMENTO\"])[\"DURATA\"].sum(\n",
    "    ).reset_index().fillna(0).sort_values(by=\"DURATA\", ascending=False)\n",
    "    for idx, row in argomenti.iterrows():\n",
    "        oggetto = {}\n",
    "        oggetto['source'] = name\n",
    "        oggetto['target'] = row.ARGOMENTO\n",
    "        oggetto['value'] = round(row.DURATA / 60, 2)\n",
    "        itemstyle = {}\n",
    "        itemstyle['color'] = coloriCategorie[row.ARGOMENTO]\n",
    "        #oggetto['itemStyle'] = itemstyle\n",
    "        sankey_data_links.append(oggetto)\n",
    "       if row.ARGOMENTO != jump:\n",
    "        name_sankey = {}\n",
    "        name_sankey['name'] = name\n",
    "        sankey_data_name.append(name_sankey)\n",
    "sankey_data['data'] = sankey_data_name\n",
    "sankey_data['links'] = sankey_data_links\n",
    "    oggetti_distro_interventi.append(root)\n",
    "\n",
    "data2json(sankey_data, \"argomenti_movimenti.json\")"
   ]
  },
  {
   "cell_type": "markdown",
   "metadata": {},
   "source": [
    "# Personaggi politici"
   ]
  },
  {
   "cell_type": "markdown",
   "metadata": {},
   "source": [
    "filtro per soli politici"
   ]
  },
  {
   "cell_type": "code",
   "execution_count": null,
   "metadata": {},
   "outputs": [],
   "source": [
    "dati_politici = data[data.NOME != \"Soggettivo Collettivo\"]\n",
    "dati_politici = dati_politici[dati_politici.NOME != \"Soggetto Collettivo\"]"
   ]
  },
  {
   "cell_type": "markdown",
   "metadata": {},
   "source": [
    "creazione campo NOME_COGNOME"
   ]
  },
  {
   "cell_type": "code",
   "execution_count": null,
   "metadata": {},
   "outputs": [],
   "source": [
    "dati_politici['NOME_COGNOME'] = dati_politici['NOME'] + \\\n",
    "    \" \" + dati_politici['COGNOME']\n"
   ]
  },
  {
   "cell_type": "markdown",
   "metadata": {},
   "source": [
    "calcolo presenze per politico"
   ]
  },
  {
   "cell_type": "code",
   "execution_count": null,
   "metadata": {},
   "outputs": [],
   "source": [
    "presenze = dati_politici.pivot_table(index=\"NOME_COGNOME\",\n",
    "                             values=\"DURATA\", aggfunc=np.sum)#"
   ]
  },
  {
   "cell_type": "code",
   "execution_count": null,
   "metadata": {},
   "outputs": [],
   "source": [
    "presenze.reset_index(inplace=True)\n"
   ]
  },
  {
   "cell_type": "code",
   "execution_count": null,
   "metadata": {},
   "outputs": [],
   "source": [
    "presenze.sort_values(by=\"DURATA\", ascending=False, inplace=True)"
   ]
  },
  {
   "cell_type": "code",
   "execution_count": null,
   "metadata": {},
   "outputs": [],
   "source": [
    "totale_politici = len(dati_politici.NOME_COGNOME.unique())\n"
   ]
  },
  {
   "cell_type": "code",
   "execution_count": null,
   "metadata": {},
   "outputs": [
    {
     "data": {
      "text/plain": [
       "8547"
      ]
     },
     "execution_count": 31,
     "metadata": {},
     "output_type": "execute_result"
    }
   ],
   "source": [
    "totale_politici\n"
   ]
  },
  {
   "cell_type": "markdown",
   "metadata": {},
   "source": [
    "ricerca più presenti nell'ultimo decile"
   ]
  },
  {
   "cell_type": "code",
   "execution_count": null,
   "metadata": {},
   "outputs": [],
   "source": [
    "#ultimo decile\n",
    "p = presenze.DURATA.quantile(0.9)"
   ]
  },
  {
   "cell_type": "code",
   "execution_count": null,
   "metadata": {},
   "outputs": [],
   "source": [
    "presenze_politici_rilevanti = presenze[(presenze.DURATA > presenze.DURATA.quantile(0.9)) & (presenze.DURATA <= presenze.DURATA.max())]\n"
   ]
  },
  {
   "cell_type": "markdown",
   "metadata": {},
   "source": [
    "di questi prendiamo l'ultimo decile"
   ]
  },
  {
   "cell_type": "code",
   "execution_count": null,
   "metadata": {},
   "outputs": [],
   "source": [
    "presenze_politici_top_rilevanti = presenze[(presenze.DURATA > presenze_politici_rilevanti.DURATA.quantile(\n",
    "    0.9)) & (presenze.DURATA <= presenze.DURATA.max())]\n"
   ]
  },
  {
   "cell_type": "code",
   "execution_count": null,
   "metadata": {},
   "outputs": [
    {
     "data": {
      "text/plain": [
       "86"
      ]
     },
     "execution_count": 35,
     "metadata": {},
     "output_type": "execute_result"
    }
   ],
   "source": [
    "presenze_politici_top_rilevanti.shape[0]"
   ]
  },
  {
   "cell_type": "code",
   "execution_count": null,
   "metadata": {},
   "outputs": [
    {
     "data": {
      "text/html": [
       "<div>\n",
       "<style scoped>\n",
       "    .dataframe tbody tr th:only-of-type {\n",
       "        vertical-align: middle;\n",
       "    }\n",
       "\n",
       "    .dataframe tbody tr th {\n",
       "        vertical-align: top;\n",
       "    }\n",
       "\n",
       "    .dataframe thead th {\n",
       "        text-align: right;\n",
       "    }\n",
       "</style>\n",
       "<table border=\"1\" class=\"dataframe\">\n",
       "  <thead>\n",
       "    <tr style=\"text-align: right;\">\n",
       "      <th></th>\n",
       "      <th>NOME_COGNOME</th>\n",
       "      <th>DURATA</th>\n",
       "    </tr>\n",
       "  </thead>\n",
       "  <tbody>\n",
       "    <tr>\n",
       "      <th>5887</th>\n",
       "      <td>Matteo Salvini</td>\n",
       "      <td>4830594</td>\n",
       "    </tr>\n",
       "    <tr>\n",
       "      <th>7830</th>\n",
       "      <td>Silvio Berlusconi</td>\n",
       "      <td>2542977</td>\n",
       "    </tr>\n",
       "    <tr>\n",
       "      <th>5001</th>\n",
       "      <td>Luigi Di Maio</td>\n",
       "      <td>2460683</td>\n",
       "    </tr>\n",
       "    <tr>\n",
       "      <th>5880</th>\n",
       "      <td>Matteo Renzi</td>\n",
       "      <td>1896863</td>\n",
       "    </tr>\n",
       "    <tr>\n",
       "      <th>3719</th>\n",
       "      <td>Giorgia Meloni</td>\n",
       "      <td>1835590</td>\n",
       "    </tr>\n",
       "    <tr>\n",
       "      <th>...</th>\n",
       "      <td>...</td>\n",
       "      <td>...</td>\n",
       "    </tr>\n",
       "    <tr>\n",
       "      <th>6929</th>\n",
       "      <td>Pietro Grasso</td>\n",
       "      <td>167791</td>\n",
       "    </tr>\n",
       "    <tr>\n",
       "      <th>5412</th>\n",
       "      <td>Maria Elena Boschi</td>\n",
       "      <td>165889</td>\n",
       "    </tr>\n",
       "    <tr>\n",
       "      <th>3641</th>\n",
       "      <td>Gianni Cuperlo</td>\n",
       "      <td>165194</td>\n",
       "    </tr>\n",
       "    <tr>\n",
       "      <th>4933</th>\n",
       "      <td>Luciano Nobili</td>\n",
       "      <td>160188</td>\n",
       "    </tr>\n",
       "    <tr>\n",
       "      <th>4887</th>\n",
       "      <td>Lucia Borgonzoni</td>\n",
       "      <td>159962</td>\n",
       "    </tr>\n",
       "  </tbody>\n",
       "</table>\n",
       "<p>86 rows × 2 columns</p>\n",
       "</div>"
      ],
      "text/plain": [
       "            NOME_COGNOME   DURATA\n",
       "5887      Matteo Salvini  4830594\n",
       "7830   Silvio Berlusconi  2542977\n",
       "5001       Luigi Di Maio  2460683\n",
       "5880        Matteo Renzi  1896863\n",
       "3719      Giorgia Meloni  1835590\n",
       "...                  ...      ...\n",
       "6929       Pietro Grasso   167791\n",
       "5412  Maria Elena Boschi   165889\n",
       "3641      Gianni Cuperlo   165194\n",
       "4933      Luciano Nobili   160188\n",
       "4887    Lucia Borgonzoni   159962\n",
       "\n",
       "[86 rows x 2 columns]"
      ]
     },
     "execution_count": 36,
     "metadata": {},
     "output_type": "execute_result"
    }
   ],
   "source": [
    "presenze_politici_top_rilevanti"
   ]
  },
  {
   "cell_type": "markdown",
   "metadata": {},
   "source": [
    "# Distribuzione argomenti"
   ]
  },
  {
   "cell_type": "code",
   "execution_count": null,
   "metadata": {},
   "outputs": [],
   "source": [
    "distribuzione_argomenti = data.groupby(['DATA', 'ARGOMENTO','TIPO_TEMPO'])[\n",
    "    'DURATA'].aggregate('sum').unstack().reset_index()"
   ]
  },
  {
   "cell_type": "code",
   "execution_count": null,
   "metadata": {},
   "outputs": [],
   "source": [
    "distribuzione_argomenti.fillna(0, inplace=True)"
   ]
  },
  {
   "cell_type": "code",
   "execution_count": null,
   "metadata": {},
   "outputs": [],
   "source": [
    "distribuzione_argomenti['TOTALE'] = distribuzione_argomenti['Notizia'] + distribuzione_argomenti['Parola']"
   ]
  },
  {
   "cell_type": "code",
   "execution_count": null,
   "metadata": {},
   "outputs": [
    {
     "data": {
      "text/html": [
       "<div>\n",
       "<style scoped>\n",
       "    .dataframe tbody tr th:only-of-type {\n",
       "        vertical-align: middle;\n",
       "    }\n",
       "\n",
       "    .dataframe tbody tr th {\n",
       "        vertical-align: top;\n",
       "    }\n",
       "\n",
       "    .dataframe thead th {\n",
       "        text-align: right;\n",
       "    }\n",
       "</style>\n",
       "<table border=\"1\" class=\"dataframe\">\n",
       "  <thead>\n",
       "    <tr style=\"text-align: right;\">\n",
       "      <th>TIPO_TEMPO</th>\n",
       "      <th>DATA</th>\n",
       "      <th>ARGOMENTO</th>\n",
       "      <th>Notizia</th>\n",
       "      <th>Parola</th>\n",
       "      <th>TOTALE</th>\n",
       "    </tr>\n",
       "  </thead>\n",
       "  <tbody>\n",
       "    <tr>\n",
       "      <th>0</th>\n",
       "      <td>2018-01-01</td>\n",
       "      <td>Costume e società</td>\n",
       "      <td>16.0</td>\n",
       "      <td>0.0</td>\n",
       "      <td>16.0</td>\n",
       "    </tr>\n",
       "    <tr>\n",
       "      <th>1</th>\n",
       "      <td>2018-01-01</td>\n",
       "      <td>Cronaca</td>\n",
       "      <td>154.0</td>\n",
       "      <td>404.0</td>\n",
       "      <td>558.0</td>\n",
       "    </tr>\n",
       "    <tr>\n",
       "      <th>2</th>\n",
       "      <td>2018-01-01</td>\n",
       "      <td>Economia, finanza e lavoro</td>\n",
       "      <td>11.0</td>\n",
       "      <td>0.0</td>\n",
       "      <td>11.0</td>\n",
       "    </tr>\n",
       "    <tr>\n",
       "      <th>3</th>\n",
       "      <td>2018-01-01</td>\n",
       "      <td>Giustizia</td>\n",
       "      <td>261.0</td>\n",
       "      <td>247.0</td>\n",
       "      <td>508.0</td>\n",
       "    </tr>\n",
       "    <tr>\n",
       "      <th>4</th>\n",
       "      <td>2018-01-01</td>\n",
       "      <td>Mass media e spettacolo</td>\n",
       "      <td>0.0</td>\n",
       "      <td>46.0</td>\n",
       "      <td>46.0</td>\n",
       "    </tr>\n",
       "    <tr>\n",
       "      <th>...</th>\n",
       "      <td>...</td>\n",
       "      <td>...</td>\n",
       "      <td>...</td>\n",
       "      <td>...</td>\n",
       "      <td>...</td>\n",
       "    </tr>\n",
       "    <tr>\n",
       "      <th>13197</th>\n",
       "      <td>2022-06-30</td>\n",
       "      <td>Costume e società</td>\n",
       "      <td>0.0</td>\n",
       "      <td>290.0</td>\n",
       "      <td>290.0</td>\n",
       "    </tr>\n",
       "    <tr>\n",
       "      <th>13198</th>\n",
       "      <td>2022-06-30</td>\n",
       "      <td>Cronaca</td>\n",
       "      <td>20.0</td>\n",
       "      <td>159.0</td>\n",
       "      <td>179.0</td>\n",
       "    </tr>\n",
       "    <tr>\n",
       "      <th>13199</th>\n",
       "      <td>2022-06-30</td>\n",
       "      <td>Economia, finanza e lavoro</td>\n",
       "      <td>188.0</td>\n",
       "      <td>2706.0</td>\n",
       "      <td>2894.0</td>\n",
       "    </tr>\n",
       "    <tr>\n",
       "      <th>13200</th>\n",
       "      <td>2022-06-30</td>\n",
       "      <td>Esteri</td>\n",
       "      <td>109.0</td>\n",
       "      <td>1226.0</td>\n",
       "      <td>1335.0</td>\n",
       "    </tr>\n",
       "    <tr>\n",
       "      <th>13201</th>\n",
       "      <td>2022-06-30</td>\n",
       "      <td>Politica e attività istituzionali</td>\n",
       "      <td>9162.0</td>\n",
       "      <td>24328.0</td>\n",
       "      <td>33490.0</td>\n",
       "    </tr>\n",
       "  </tbody>\n",
       "</table>\n",
       "<p>13202 rows × 5 columns</p>\n",
       "</div>"
      ],
      "text/plain": [
       "TIPO_TEMPO       DATA                          ARGOMENTO  Notizia   Parola  \\\n",
       "0          2018-01-01                  Costume e società     16.0      0.0   \n",
       "1          2018-01-01                            Cronaca    154.0    404.0   \n",
       "2          2018-01-01         Economia, finanza e lavoro     11.0      0.0   \n",
       "3          2018-01-01                          Giustizia    261.0    247.0   \n",
       "4          2018-01-01            Mass media e spettacolo      0.0     46.0   \n",
       "...               ...                                ...      ...      ...   \n",
       "13197      2022-06-30                  Costume e società      0.0    290.0   \n",
       "13198      2022-06-30                            Cronaca     20.0    159.0   \n",
       "13199      2022-06-30         Economia, finanza e lavoro    188.0   2706.0   \n",
       "13200      2022-06-30                             Esteri    109.0   1226.0   \n",
       "13201      2022-06-30  Politica e attività istituzionali   9162.0  24328.0   \n",
       "\n",
       "TIPO_TEMPO   TOTALE  \n",
       "0              16.0  \n",
       "1             558.0  \n",
       "2              11.0  \n",
       "3             508.0  \n",
       "4              46.0  \n",
       "...             ...  \n",
       "13197         290.0  \n",
       "13198         179.0  \n",
       "13199        2894.0  \n",
       "13200        1335.0  \n",
       "13201       33490.0  \n",
       "\n",
       "[13202 rows x 5 columns]"
      ]
     },
     "execution_count": 40,
     "metadata": {},
     "output_type": "execute_result"
    }
   ],
   "source": [
    "distribuzione_argomenti\n"
   ]
  },
  {
   "cell_type": "code",
   "execution_count": null,
   "metadata": {},
   "outputs": [],
   "source": [
    "dati = []\n",
    "radar_dati = {}\n"
   ]
  },
  {
   "cell_type": "code",
   "execution_count": null,
   "metadata": {},
   "outputs": [],
   "source": [
    "\n",
    "totale_parole = distribuzione_argomenti.sort_values(by=\"ARGOMENTO\", ascending=True).groupby(\n",
    "    'ARGOMENTO')['Parola'].aggregate('sum').to_frame().reset_index()\n",
    "dati_interventi = {}\n",
    "label_interventi = \"Interventi\"\n",
    "interventi_argomenti_dati = []\n",
    "for idx, row in totale_parole.iterrows():\n",
    "    v = round(row.Parola / 60, 2)\n",
    "    interventi_argomenti_dati.append(v)\n",
    "dati_interventi['value'] = interventi_argomenti_dati\n",
    "dati_interventi['name'] = label_interventi\n",
    "dati.append(dati_interventi)\n"
   ]
  },
  {
   "cell_type": "code",
   "execution_count": null,
   "metadata": {},
   "outputs": [],
   "source": [
    "totale_notizie = distribuzione_argomenti.sort_values(by=\"ARGOMENTO\", ascending=True).groupby(\n",
    "    'ARGOMENTO')['Notizia'].aggregate('sum').to_frame().reset_index()\n",
    "\n",
    "dati_notizie = {}\n",
    "label_notizie = \"Notizie\"\n",
    "notizie_argomenti_dati = []\n",
    "out = \"[\"\n",
    "for idx, row in totale_notizie.iterrows():\n",
    "    v = round(row.Notizia / 60,2)\n",
    "    out += str(v) + \",\"\n",
    "    notizie_argomenti_dati.append(v)\n",
    "out = out[:-1] + \"]\"\n",
    "dati_notizie['value'] = notizie_argomenti_dati\n",
    "dati_notizie['name']=label_notizie\n",
    "dati.append(dati_notizie)\n"
   ]
  },
  {
   "cell_type": "code",
   "execution_count": null,
   "metadata": {},
   "outputs": [],
   "source": [
    "minuti_argomenti = distribuzione_argomenti.pivot_table(index=\"ARGOMENTO\", values=\"TOTALE\", aggfunc=np.sum).reset_index().sort_values(by=\"ARGOMENTO\", ascending=True)"
   ]
  },
  {
   "cell_type": "code",
   "execution_count": null,
   "metadata": {},
   "outputs": [],
   "source": [
    "indicators = []\n",
    "for idx, row in minuti_argomenti.iterrows():\n",
    "    blocco = {}\n",
    "    name = row.ARGOMENTO\n",
    "    value = round(row.TOTALE / 60,2)\n",
    "    blocco['name'] = name \n",
    "    blocco['value'] = value\n",
    "    out += \"{ name: '%s', value: %s},\" % (name, value)\n",
    "    indicators.append(blocco)"
   ]
  },
  {
   "cell_type": "code",
   "execution_count": null,
   "metadata": {},
   "outputs": [],
   "source": [
    "radar_dati = {}\n",
    "radar_dati['titolo'] = \"Distribuzione per argomenti\"\n",
    "radar_dati['titolo_radar'] = \"Interventi vs Notizie\"\n",
    "radar_dati['indicatori'] = indicators\n",
    "radar_dati['legenda'] = [label_interventi, label_notizie]\n",
    "radar_dati['dati'] = dati\n"
   ]
  },
  {
   "cell_type": "code",
   "execution_count": null,
   "metadata": {},
   "outputs": [],
   "source": [
    "data2json(radar_dati,\"radar_argomenti.json\")"
   ]
  },
  {
   "cell_type": "markdown",
   "metadata": {},
   "source": [
    "# Flusso notizie/interventi nel tempo"
   ]
  },
  {
   "cell_type": "code",
   "execution_count": null,
   "metadata": {},
   "outputs": [],
   "source": [
    "label_interventi = \"INTERVENTI\"\n",
    "label_notizie = \"NOTIZIE\"\n",
    "legenda = []\n",
    "legenda.append(label_interventi)\n",
    "legenda.append(label_notizie)\n",
    "volume_notizie = {}\n",
    "volume_notizie['titolo'] = \"Ore di notizie ed interventi di politica nella televisione\"\n",
    "volume_notizie['legenda'] = legenda\n",
    "dati = []\n"
   ]
  },
  {
   "cell_type": "code",
   "execution_count": null,
   "metadata": {},
   "outputs": [],
   "source": [
    "volume_notizie_parole = data.groupby(['DATA', 'TIPO_TEMPO'])['DURATA'].aggregate('sum').unstack().reset_index()\n",
    "volume_notizie_parole.sort_values(by=\"DATA\", ascending=True, inplace=True)\n",
    "volume_notizie_parole['TOTALE'] = volume_notizie_parole['Notizia'] + \\\n",
    "    volume_notizie_parole['Parola']\n"
   ]
  },
  {
   "cell_type": "code",
   "execution_count": null,
   "metadata": {},
   "outputs": [
    {
     "data": {
      "text/html": [
       "<div>\n",
       "<style scoped>\n",
       "    .dataframe tbody tr th:only-of-type {\n",
       "        vertical-align: middle;\n",
       "    }\n",
       "\n",
       "    .dataframe tbody tr th {\n",
       "        vertical-align: top;\n",
       "    }\n",
       "\n",
       "    .dataframe thead th {\n",
       "        text-align: right;\n",
       "    }\n",
       "</style>\n",
       "<table border=\"1\" class=\"dataframe\">\n",
       "  <thead>\n",
       "    <tr style=\"text-align: right;\">\n",
       "      <th>TIPO_TEMPO</th>\n",
       "      <th>DATA</th>\n",
       "      <th>Notizia</th>\n",
       "      <th>Parola</th>\n",
       "      <th>TOTALE</th>\n",
       "    </tr>\n",
       "  </thead>\n",
       "  <tbody>\n",
       "    <tr>\n",
       "      <th>1114</th>\n",
       "      <td>2021-01-19</td>\n",
       "      <td>18186</td>\n",
       "      <td>163020</td>\n",
       "      <td>181206</td>\n",
       "    </tr>\n",
       "  </tbody>\n",
       "</table>\n",
       "</div>"
      ],
      "text/plain": [
       "TIPO_TEMPO       DATA  Notizia  Parola  TOTALE\n",
       "1114       2021-01-19    18186  163020  181206"
      ]
     },
     "execution_count": 50,
     "metadata": {},
     "output_type": "execute_result"
    }
   ],
   "source": [
    "volume_notizie_parole[volume_notizie_parole.TOTALE ==\n",
    "                      volume_notizie_parole.TOTALE.max()]\n"
   ]
  },
  {
   "cell_type": "code",
   "execution_count": null,
   "metadata": {},
   "outputs": [],
   "source": [
    "for idx,row in volume_notizie_parole.iterrows():\n",
    "    day = row.DATA.strftime('%Y/%m/%d')\n",
    "    value_parole = []\n",
    "    value_notizie = []\n",
    "    parole = round(row.Parola / 60,2)\n",
    "    notize = round(row.Notizia /60,2)\n",
    "    value_parole.append(day)\n",
    "    value_parole.append(parole)\n",
    "    value_parole.append(label_interventi)\n",
    "    value_notizie.append(day)\n",
    "    value_notizie.append(notize)\n",
    "    value_notizie.append(label_notizie)\n",
    "    dati.append(value_parole)\n",
    "    dati.append(value_notizie)\n"
   ]
  },
  {
   "cell_type": "code",
   "execution_count": null,
   "metadata": {},
   "outputs": [],
   "source": [
    "volume_notizie['dati'] = dati"
   ]
  },
  {
   "cell_type": "code",
   "execution_count": null,
   "metadata": {},
   "outputs": [],
   "source": [
    "data2json(volume_notizie, \"volume_notizie.json\")"
   ]
  },
  {
   "cell_type": "code",
   "execution_count": null,
   "metadata": {},
   "outputs": [
    {
     "data": {
      "text/html": [
       "<div>\n",
       "<style scoped>\n",
       "    .dataframe tbody tr th:only-of-type {\n",
       "        vertical-align: middle;\n",
       "    }\n",
       "\n",
       "    .dataframe tbody tr th {\n",
       "        vertical-align: top;\n",
       "    }\n",
       "\n",
       "    .dataframe thead th {\n",
       "        text-align: right;\n",
       "    }\n",
       "</style>\n",
       "<table border=\"1\" class=\"dataframe\">\n",
       "  <thead>\n",
       "    <tr style=\"text-align: right;\">\n",
       "      <th>TIPO_TEMPO</th>\n",
       "      <th>DATA</th>\n",
       "      <th>Notizia</th>\n",
       "      <th>Parola</th>\n",
       "      <th>TOTALE</th>\n",
       "    </tr>\n",
       "  </thead>\n",
       "  <tbody>\n",
       "    <tr>\n",
       "      <th>61</th>\n",
       "      <td>2018-03-03</td>\n",
       "      <td>463</td>\n",
       "      <td>883</td>\n",
       "      <td>1346</td>\n",
       "    </tr>\n",
       "  </tbody>\n",
       "</table>\n",
       "</div>"
      ],
      "text/plain": [
       "TIPO_TEMPO       DATA  Notizia  Parola  TOTALE\n",
       "61         2018-03-03      463     883    1346"
      ]
     },
     "execution_count": 54,
     "metadata": {},
     "output_type": "execute_result"
    }
   ],
   "source": [
    "volume_notizie_parole[volume_notizie_parole.TOTALE ==\n",
    "                      volume_notizie_parole.TOTALE.min()]\n"
   ]
  },
  {
   "cell_type": "code",
   "execution_count": null,
   "metadata": {},
   "outputs": [
    {
     "data": {
      "text/plain": [
       "array(['Berlusconi', 'Calenda', 'Conte', ..., 'Delli Colli', 'Calearo',\n",
       "       'Gramazio'], dtype=object)"
      ]
     },
     "execution_count": 55,
     "metadata": {},
     "output_type": "execute_result"
    }
   ],
   "source": [
    "data.COGNOME.unique()"
   ]
  }
 ],
 "metadata": {
  "kernelspec": {
   "display_name": "Python 3.10.4 64-bit",
   "language": "python",
   "name": "python3"
  },
  "language_info": {
   "codemirror_mode": {
    "name": "ipython",
    "version": 3
   },
   "file_extension": ".py",
   "mimetype": "text/x-python",
   "name": "python",
   "nbconvert_exporter": "python",
   "pygments_lexer": "ipython3",
   "version": "3.10.4"
  },
  "orig_nbformat": 4,
  "vscode": {
   "interpreter": {
    "hash": "31f2aee4e71d21fbe5cf8b01ff0e069b9275f58929596ceb00d14d90e3e16cd6"
   }
  }
 },
 "nbformat": 4,
 "nbformat_minor": 2
}
