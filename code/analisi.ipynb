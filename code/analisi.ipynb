{
 "cells": [
  {
   "cell_type": "code",
   "execution_count": 1,
   "metadata": {},
   "outputs": [],
   "source": [
    "import pandas as pd\n",
    "import os\n",
    "import numpy as np"
   ]
  },
  {
   "cell_type": "code",
   "execution_count": 2,
   "metadata": {},
   "outputs": [],
   "source": [
    "data = pd.read_parquet(\"..\" + os.sep + \"data\" + os.sep +\n",
    "                \"dati_presenze_politici.parquet\")\n"
   ]
  },
  {
   "cell_type": "markdown",
   "metadata": {},
   "source": [
    "trasformazione delle date in oggetti datetime"
   ]
  },
  {
   "cell_type": "code",
   "execution_count": 3,
   "metadata": {},
   "outputs": [],
   "source": [
    "data['DATA'] = data['DATA'].apply(lambda x: x.replace(\" 00:00\",\"\"))\n",
    "data['DATA'] = data['DATA'].apply(lambda x: x.replace(\":00\",\"\"))\n",
    "data.DATA = pd.to_datetime(data[\"DATA\"],  format=\"%d.%m.%Y\")\n"
   ]
  },
  {
   "cell_type": "code",
   "execution_count": 4,
   "metadata": {},
   "outputs": [
    {
     "data": {
      "text/html": [
       "<div>\n",
       "<style scoped>\n",
       "    .dataframe tbody tr th:only-of-type {\n",
       "        vertical-align: middle;\n",
       "    }\n",
       "\n",
       "    .dataframe tbody tr th {\n",
       "        vertical-align: top;\n",
       "    }\n",
       "\n",
       "    .dataframe thead th {\n",
       "        text-align: right;\n",
       "    }\n",
       "</style>\n",
       "<table border=\"1\" class=\"dataframe\">\n",
       "  <thead>\n",
       "    <tr style=\"text-align: right;\">\n",
       "      <th></th>\n",
       "      <th>CANALE</th>\n",
       "      <th>PROGRAMMA</th>\n",
       "      <th>DATA</th>\n",
       "      <th>COGNOME</th>\n",
       "      <th>NOME</th>\n",
       "      <th>MICRO_CATEGORIA</th>\n",
       "      <th>ARGOMENTO</th>\n",
       "      <th>DURATA</th>\n",
       "      <th>TIPO_TEMPO</th>\n",
       "    </tr>\n",
       "  </thead>\n",
       "  <tbody>\n",
       "    <tr>\n",
       "      <th>2</th>\n",
       "      <td>CANALE 5</td>\n",
       "      <td>TG5</td>\n",
       "      <td>2022-01-01</td>\n",
       "      <td>Berlusconi</td>\n",
       "      <td>Silvio</td>\n",
       "      <td>PDL - Forza Italia</td>\n",
       "      <td>Politica e attività istituzionali</td>\n",
       "      <td>42</td>\n",
       "      <td>Notizia</td>\n",
       "    </tr>\n",
       "    <tr>\n",
       "      <th>3</th>\n",
       "      <td>CANALE 5</td>\n",
       "      <td>TG5</td>\n",
       "      <td>2022-01-01</td>\n",
       "      <td>Calenda</td>\n",
       "      <td>Carlo</td>\n",
       "      <td>Azione - +Europa - Radicali Italiani</td>\n",
       "      <td>Politica e attività istituzionali</td>\n",
       "      <td>6</td>\n",
       "      <td>Notizia</td>\n",
       "    </tr>\n",
       "    <tr>\n",
       "      <th>4</th>\n",
       "      <td>CANALE 5</td>\n",
       "      <td>TG5</td>\n",
       "      <td>2022-01-01</td>\n",
       "      <td>Conte</td>\n",
       "      <td>Giuseppe</td>\n",
       "      <td>Movimento 5 Stelle</td>\n",
       "      <td>Politica e attività istituzionali</td>\n",
       "      <td>36</td>\n",
       "      <td>Notizia</td>\n",
       "    </tr>\n",
       "    <tr>\n",
       "      <th>5</th>\n",
       "      <td>CANALE 5</td>\n",
       "      <td>TG5</td>\n",
       "      <td>2022-01-01</td>\n",
       "      <td>D'Amato</td>\n",
       "      <td>Alessio</td>\n",
       "      <td>Partito Democratico</td>\n",
       "      <td>Cronaca</td>\n",
       "      <td>3</td>\n",
       "      <td>Notizia</td>\n",
       "    </tr>\n",
       "  </tbody>\n",
       "</table>\n",
       "</div>"
      ],
      "text/plain": [
       "     CANALE PROGRAMMA       DATA     COGNOME      NOME  \\\n",
       "2  CANALE 5       TG5 2022-01-01  Berlusconi    Silvio   \n",
       "3  CANALE 5       TG5 2022-01-01     Calenda     Carlo   \n",
       "4  CANALE 5       TG5 2022-01-01       Conte  Giuseppe   \n",
       "5  CANALE 5       TG5 2022-01-01     D'Amato   Alessio   \n",
       "\n",
       "                        MICRO_CATEGORIA                          ARGOMENTO  \\\n",
       "2                    PDL - Forza Italia  Politica e attività istituzionali   \n",
       "3  Azione - +Europa - Radicali Italiani  Politica e attività istituzionali   \n",
       "4                    Movimento 5 Stelle  Politica e attività istituzionali   \n",
       "5                   Partito Democratico                            Cronaca   \n",
       "\n",
       "   DURATA TIPO_TEMPO  \n",
       "2      42    Notizia  \n",
       "3       6    Notizia  \n",
       "4      36    Notizia  \n",
       "5       3    Notizia  "
      ]
     },
     "execution_count": 4,
     "metadata": {},
     "output_type": "execute_result"
    }
   ],
   "source": [
    "data.head(4)"
   ]
  },
  {
   "cell_type": "markdown",
   "metadata": {},
   "source": [
    "filtro per soli politici"
   ]
  },
  {
   "cell_type": "code",
   "execution_count": 5,
   "metadata": {},
   "outputs": [],
   "source": [
    "dati_politici = data[data.NOME != \"Soggettivo Collettivo\"]\n",
    "dati_politici = dati_politici[dati_politici.NOME != \"Soggetto Collettivo\"]"
   ]
  },
  {
   "cell_type": "markdown",
   "metadata": {},
   "source": [
    "creazione campo NOME_COGNOME"
   ]
  },
  {
   "cell_type": "code",
   "execution_count": 6,
   "metadata": {},
   "outputs": [],
   "source": [
    "dati_politici['NOME_COGNOME'] = dati_politici['NOME'] + \\\n",
    "    \" \" + dati_politici['COGNOME']\n"
   ]
  },
  {
   "cell_type": "markdown",
   "metadata": {},
   "source": [
    "calcolo presenze per politico"
   ]
  },
  {
   "cell_type": "code",
   "execution_count": 7,
   "metadata": {},
   "outputs": [],
   "source": [
    "presenze = dati_politici.pivot_table(index=\"NOME_COGNOME\",\n",
    "                             values=\"DURATA\", aggfunc=np.sum)#"
   ]
  },
  {
   "cell_type": "code",
   "execution_count": 8,
   "metadata": {},
   "outputs": [],
   "source": [
    "presenze.reset_index(inplace=True)\n"
   ]
  },
  {
   "cell_type": "code",
   "execution_count": 9,
   "metadata": {},
   "outputs": [],
   "source": [
    "presenze.sort_values(by=\"DURATA\", ascending=False, inplace=True)"
   ]
  },
  {
   "cell_type": "code",
   "execution_count": 10,
   "metadata": {},
   "outputs": [],
   "source": [
    "totale_politici = len(dati_politici.NOME_COGNOME.unique())\n"
   ]
  },
  {
   "cell_type": "code",
   "execution_count": 11,
   "metadata": {},
   "outputs": [
    {
     "data": {
      "text/plain": [
       "8547"
      ]
     },
     "execution_count": 11,
     "metadata": {},
     "output_type": "execute_result"
    }
   ],
   "source": [
    "totale_politici\n"
   ]
  },
  {
   "cell_type": "markdown",
   "metadata": {},
   "source": [
    "ricerca più presenti nell'ultimo decile"
   ]
  },
  {
   "cell_type": "code",
   "execution_count": 12,
   "metadata": {},
   "outputs": [],
   "source": [
    "#ultimo decile\n",
    "p = presenze.DURATA.quantile(0.9)"
   ]
  },
  {
   "cell_type": "code",
   "execution_count": 13,
   "metadata": {},
   "outputs": [],
   "source": [
    "presenze_politici_rilevanti = presenze[(presenze.DURATA > presenze.DURATA.quantile(0.9)) & (presenze.DURATA <= presenze.DURATA.max())]\n"
   ]
  },
  {
   "cell_type": "markdown",
   "metadata": {},
   "source": [
    "di questi prendiamo l'ultimo decile"
   ]
  },
  {
   "cell_type": "code",
   "execution_count": 14,
   "metadata": {},
   "outputs": [],
   "source": [
    "presenze_politici_top_rilevanti = presenze[(presenze.DURATA > presenze_politici_rilevanti.DURATA.quantile(\n",
    "    0.9)) & (presenze.DURATA <= presenze.DURATA.max())]\n"
   ]
  },
  {
   "cell_type": "code",
   "execution_count": 15,
   "metadata": {},
   "outputs": [
    {
     "data": {
      "text/plain": [
       "86"
      ]
     },
     "execution_count": 15,
     "metadata": {},
     "output_type": "execute_result"
    }
   ],
   "source": [
    "presenze_politici_top_rilevanti.shape[0]"
   ]
  },
  {
   "cell_type": "code",
   "execution_count": 16,
   "metadata": {},
   "outputs": [
    {
     "data": {
      "text/html": [
       "<div>\n",
       "<style scoped>\n",
       "    .dataframe tbody tr th:only-of-type {\n",
       "        vertical-align: middle;\n",
       "    }\n",
       "\n",
       "    .dataframe tbody tr th {\n",
       "        vertical-align: top;\n",
       "    }\n",
       "\n",
       "    .dataframe thead th {\n",
       "        text-align: right;\n",
       "    }\n",
       "</style>\n",
       "<table border=\"1\" class=\"dataframe\">\n",
       "  <thead>\n",
       "    <tr style=\"text-align: right;\">\n",
       "      <th></th>\n",
       "      <th>NOME_COGNOME</th>\n",
       "      <th>DURATA</th>\n",
       "    </tr>\n",
       "  </thead>\n",
       "  <tbody>\n",
       "    <tr>\n",
       "      <th>5887</th>\n",
       "      <td>Matteo Salvini</td>\n",
       "      <td>4830594</td>\n",
       "    </tr>\n",
       "    <tr>\n",
       "      <th>7830</th>\n",
       "      <td>Silvio Berlusconi</td>\n",
       "      <td>2542977</td>\n",
       "    </tr>\n",
       "    <tr>\n",
       "      <th>5001</th>\n",
       "      <td>Luigi Di Maio</td>\n",
       "      <td>2460683</td>\n",
       "    </tr>\n",
       "    <tr>\n",
       "      <th>5880</th>\n",
       "      <td>Matteo Renzi</td>\n",
       "      <td>1896863</td>\n",
       "    </tr>\n",
       "    <tr>\n",
       "      <th>3719</th>\n",
       "      <td>Giorgia Meloni</td>\n",
       "      <td>1835590</td>\n",
       "    </tr>\n",
       "    <tr>\n",
       "      <th>...</th>\n",
       "      <td>...</td>\n",
       "      <td>...</td>\n",
       "    </tr>\n",
       "    <tr>\n",
       "      <th>6929</th>\n",
       "      <td>Pietro Grasso</td>\n",
       "      <td>167791</td>\n",
       "    </tr>\n",
       "    <tr>\n",
       "      <th>5412</th>\n",
       "      <td>Maria Elena Boschi</td>\n",
       "      <td>165889</td>\n",
       "    </tr>\n",
       "    <tr>\n",
       "      <th>3641</th>\n",
       "      <td>Gianni Cuperlo</td>\n",
       "      <td>165194</td>\n",
       "    </tr>\n",
       "    <tr>\n",
       "      <th>4933</th>\n",
       "      <td>Luciano Nobili</td>\n",
       "      <td>160188</td>\n",
       "    </tr>\n",
       "    <tr>\n",
       "      <th>4887</th>\n",
       "      <td>Lucia Borgonzoni</td>\n",
       "      <td>159962</td>\n",
       "    </tr>\n",
       "  </tbody>\n",
       "</table>\n",
       "<p>86 rows × 2 columns</p>\n",
       "</div>"
      ],
      "text/plain": [
       "            NOME_COGNOME   DURATA\n",
       "5887      Matteo Salvini  4830594\n",
       "7830   Silvio Berlusconi  2542977\n",
       "5001       Luigi Di Maio  2460683\n",
       "5880        Matteo Renzi  1896863\n",
       "3719      Giorgia Meloni  1835590\n",
       "...                  ...      ...\n",
       "6929       Pietro Grasso   167791\n",
       "5412  Maria Elena Boschi   165889\n",
       "3641      Gianni Cuperlo   165194\n",
       "4933      Luciano Nobili   160188\n",
       "4887    Lucia Borgonzoni   159962\n",
       "\n",
       "[86 rows x 2 columns]"
      ]
     },
     "execution_count": 16,
     "metadata": {},
     "output_type": "execute_result"
    }
   ],
   "source": [
    "presenze_politici_top_rilevanti"
   ]
  },
  {
   "cell_type": "code",
   "execution_count": 33,
   "metadata": {},
   "outputs": [],
   "source": [
    "distribuzione_argomenti = data.groupby(['DATA', 'ARGOMENTO','TIPO_TEMPO'])[\n",
    "    'DURATA'].aggregate('sum').unstack().reset_index()\n",
    "\n"
   ]
  },
  {
   "cell_type": "code",
   "execution_count": 35,
   "metadata": {},
   "outputs": [],
   "source": [
    "distribuzione_argomenti.fillna(0, inplace=True)\n"
   ]
  },
  {
   "cell_type": "code",
   "execution_count": 60,
   "metadata": {},
   "outputs": [],
   "source": [
    "distribuzione_argomenti['TOTALE'] = distribuzione_argomenti['Notizia'] + distribuzione_argomenti['Parola']\n"
   ]
  },
  {
   "cell_type": "code",
   "execution_count": 67,
   "metadata": {},
   "outputs": [
    {
     "data": {
      "text/html": [
       "<div>\n",
       "<style scoped>\n",
       "    .dataframe tbody tr th:only-of-type {\n",
       "        vertical-align: middle;\n",
       "    }\n",
       "\n",
       "    .dataframe tbody tr th {\n",
       "        vertical-align: top;\n",
       "    }\n",
       "\n",
       "    .dataframe thead th {\n",
       "        text-align: right;\n",
       "    }\n",
       "</style>\n",
       "<table border=\"1\" class=\"dataframe\">\n",
       "  <thead>\n",
       "    <tr style=\"text-align: right;\">\n",
       "      <th>TIPO_TEMPO</th>\n",
       "      <th>DATA</th>\n",
       "      <th>ARGOMENTO</th>\n",
       "      <th>Notizia</th>\n",
       "      <th>Parola</th>\n",
       "      <th>TOTALE</th>\n",
       "    </tr>\n",
       "  </thead>\n",
       "  <tbody>\n",
       "    <tr>\n",
       "      <th>0</th>\n",
       "      <td>2018-01-01</td>\n",
       "      <td>Costume e società</td>\n",
       "      <td>16.0</td>\n",
       "      <td>0.0</td>\n",
       "      <td>16.0</td>\n",
       "    </tr>\n",
       "    <tr>\n",
       "      <th>1</th>\n",
       "      <td>2018-01-01</td>\n",
       "      <td>Cronaca</td>\n",
       "      <td>154.0</td>\n",
       "      <td>404.0</td>\n",
       "      <td>558.0</td>\n",
       "    </tr>\n",
       "    <tr>\n",
       "      <th>2</th>\n",
       "      <td>2018-01-01</td>\n",
       "      <td>Economia, finanza e lavoro</td>\n",
       "      <td>11.0</td>\n",
       "      <td>0.0</td>\n",
       "      <td>11.0</td>\n",
       "    </tr>\n",
       "    <tr>\n",
       "      <th>3</th>\n",
       "      <td>2018-01-01</td>\n",
       "      <td>Giustizia</td>\n",
       "      <td>261.0</td>\n",
       "      <td>247.0</td>\n",
       "      <td>508.0</td>\n",
       "    </tr>\n",
       "    <tr>\n",
       "      <th>4</th>\n",
       "      <td>2018-01-01</td>\n",
       "      <td>Mass media e spettacolo</td>\n",
       "      <td>0.0</td>\n",
       "      <td>46.0</td>\n",
       "      <td>46.0</td>\n",
       "    </tr>\n",
       "    <tr>\n",
       "      <th>...</th>\n",
       "      <td>...</td>\n",
       "      <td>...</td>\n",
       "      <td>...</td>\n",
       "      <td>...</td>\n",
       "      <td>...</td>\n",
       "    </tr>\n",
       "    <tr>\n",
       "      <th>13197</th>\n",
       "      <td>2022-06-30</td>\n",
       "      <td>Costume e società</td>\n",
       "      <td>0.0</td>\n",
       "      <td>290.0</td>\n",
       "      <td>290.0</td>\n",
       "    </tr>\n",
       "    <tr>\n",
       "      <th>13198</th>\n",
       "      <td>2022-06-30</td>\n",
       "      <td>Cronaca</td>\n",
       "      <td>20.0</td>\n",
       "      <td>159.0</td>\n",
       "      <td>179.0</td>\n",
       "    </tr>\n",
       "    <tr>\n",
       "      <th>13199</th>\n",
       "      <td>2022-06-30</td>\n",
       "      <td>Economia, finanza e lavoro</td>\n",
       "      <td>188.0</td>\n",
       "      <td>2706.0</td>\n",
       "      <td>2894.0</td>\n",
       "    </tr>\n",
       "    <tr>\n",
       "      <th>13200</th>\n",
       "      <td>2022-06-30</td>\n",
       "      <td>Esteri</td>\n",
       "      <td>109.0</td>\n",
       "      <td>1226.0</td>\n",
       "      <td>1335.0</td>\n",
       "    </tr>\n",
       "    <tr>\n",
       "      <th>13201</th>\n",
       "      <td>2022-06-30</td>\n",
       "      <td>Politica e attività istituzionali</td>\n",
       "      <td>9162.0</td>\n",
       "      <td>24328.0</td>\n",
       "      <td>33490.0</td>\n",
       "    </tr>\n",
       "  </tbody>\n",
       "</table>\n",
       "<p>13202 rows × 5 columns</p>\n",
       "</div>"
      ],
      "text/plain": [
       "TIPO_TEMPO       DATA                          ARGOMENTO  Notizia   Parola  \\\n",
       "0          2018-01-01                  Costume e società     16.0      0.0   \n",
       "1          2018-01-01                            Cronaca    154.0    404.0   \n",
       "2          2018-01-01         Economia, finanza e lavoro     11.0      0.0   \n",
       "3          2018-01-01                          Giustizia    261.0    247.0   \n",
       "4          2018-01-01            Mass media e spettacolo      0.0     46.0   \n",
       "...               ...                                ...      ...      ...   \n",
       "13197      2022-06-30                  Costume e società      0.0    290.0   \n",
       "13198      2022-06-30                            Cronaca     20.0    159.0   \n",
       "13199      2022-06-30         Economia, finanza e lavoro    188.0   2706.0   \n",
       "13200      2022-06-30                             Esteri    109.0   1226.0   \n",
       "13201      2022-06-30  Politica e attività istituzionali   9162.0  24328.0   \n",
       "\n",
       "TIPO_TEMPO   TOTALE  \n",
       "0              16.0  \n",
       "1             558.0  \n",
       "2              11.0  \n",
       "3             508.0  \n",
       "4              46.0  \n",
       "...             ...  \n",
       "13197         290.0  \n",
       "13198         179.0  \n",
       "13199        2894.0  \n",
       "13200        1335.0  \n",
       "13201       33490.0  \n",
       "\n",
       "[13202 rows x 5 columns]"
      ]
     },
     "execution_count": 67,
     "metadata": {},
     "output_type": "execute_result"
    }
   ],
   "source": [
    "distribuzione_argomenti\n"
   ]
  },
  {
   "cell_type": "code",
   "execution_count": 85,
   "metadata": {},
   "outputs": [],
   "source": [
    "totale_notizie = distribuzione_argomenti.sort_values(by=\"ARGOMENTO\", ascending=True).groupby(\n",
    "    'ARGOMENTO')['Notizia'].aggregate('sum').to_frame().reset_index()\n",
    "\n",
    "out = \"[\"\n",
    "for idx, row in totale_notizie.iterrows():\n",
    "    v = round(row.Notizia / 60,2)\n",
    "    out += str(v) + \",\"\n",
    "out = out[:-1] + \"]\"\n"
   ]
  },
  {
   "cell_type": "code",
   "execution_count": 86,
   "metadata": {},
   "outputs": [],
   "source": [
    "totale_parole = distribuzione_argomenti.sort_values(by=\"ARGOMENTO\", ascending=True).groupby(\n",
    "    'ARGOMENTO')['Parola'].aggregate('sum').to_frame().reset_index()\n",
    "\n",
    "out = \"[\"\n",
    "for idx, row in totale_parole.iterrows():\n",
    "    v = round(row.Parola / 60, 2)\n",
    "    out += str(v) + \",\"\n",
    "out = out[:-1] + \"]\"\n"
   ]
  },
  {
   "cell_type": "code",
   "execution_count": 87,
   "metadata": {},
   "outputs": [
    {
     "data": {
      "text/plain": [
       "'[3683.68,1972.52,800.98,25861.02,3272.42,54273.38,12913.32,0.42,2530.72,331.0,1374.03,10432.68,742280.92,109.47,0.25,226.5,10249.23,975.97]'"
      ]
     },
     "execution_count": 87,
     "metadata": {},
     "output_type": "execute_result"
    }
   ],
   "source": [
    "out"
   ]
  },
  {
   "cell_type": "code",
   "execution_count": 50,
   "metadata": {},
   "outputs": [],
   "source": [
    "minuti_argomenti = distribuzione_argomenti.pivot_table(index=\"ARGOMENTO\", values=\"TOTALE\", aggfunc=np.sum).reset_index().sort_values(by=\"ARGOMENTO\", ascending=True)"
   ]
  },
  {
   "cell_type": "code",
   "execution_count": 55,
   "metadata": {},
   "outputs": [],
   "source": [
    "out = \"radar: { indicator: [\"\n",
    "for idx, row in minuti_argomenti.iterrows():\n",
    "    name = row.ARGOMENTO\n",
    "    value = round(row.TOTALE / 60,2)\n",
    "    out += \"{ name: '%s', value: %s},\" % (name, value)\n",
    "out = out[:-1] + \"]}\""
   ]
  },
  {
   "cell_type": "code",
   "execution_count": 31,
   "metadata": {},
   "outputs": [],
   "source": [
    "volume_notizie_parole = data.groupby(['DATA', 'TIPO_TEMPO'])['DURATA'].aggregate('sum').unstack().reset_index()"
   ]
  },
  {
   "cell_type": "code",
   "execution_count": 20,
   "metadata": {},
   "outputs": [],
   "source": [
    "volume_notizie_parole.sort_values(by=\"DATA\", ascending=True, inplace=True)"
   ]
  },
  {
   "cell_type": "code",
   "execution_count": 21,
   "metadata": {},
   "outputs": [
    {
     "data": {
      "text/html": [
       "<div>\n",
       "<style scoped>\n",
       "    .dataframe tbody tr th:only-of-type {\n",
       "        vertical-align: middle;\n",
       "    }\n",
       "\n",
       "    .dataframe tbody tr th {\n",
       "        vertical-align: top;\n",
       "    }\n",
       "\n",
       "    .dataframe thead th {\n",
       "        text-align: right;\n",
       "    }\n",
       "</style>\n",
       "<table border=\"1\" class=\"dataframe\">\n",
       "  <thead>\n",
       "    <tr style=\"text-align: right;\">\n",
       "      <th>TIPO_TEMPO</th>\n",
       "      <th>DATA</th>\n",
       "      <th>Notizia</th>\n",
       "      <th>Parola</th>\n",
       "    </tr>\n",
       "  </thead>\n",
       "  <tbody>\n",
       "    <tr>\n",
       "      <th>0</th>\n",
       "      <td>2018-01-01</td>\n",
       "      <td>8543</td>\n",
       "      <td>5404</td>\n",
       "    </tr>\n",
       "    <tr>\n",
       "      <th>1</th>\n",
       "      <td>2018-01-02</td>\n",
       "      <td>13613</td>\n",
       "      <td>8908</td>\n",
       "    </tr>\n",
       "    <tr>\n",
       "      <th>2</th>\n",
       "      <td>2018-01-03</td>\n",
       "      <td>18222</td>\n",
       "      <td>16568</td>\n",
       "    </tr>\n",
       "    <tr>\n",
       "      <th>3</th>\n",
       "      <td>2018-01-04</td>\n",
       "      <td>17561</td>\n",
       "      <td>19757</td>\n",
       "    </tr>\n",
       "    <tr>\n",
       "      <th>4</th>\n",
       "      <td>2018-01-05</td>\n",
       "      <td>16868</td>\n",
       "      <td>14548</td>\n",
       "    </tr>\n",
       "    <tr>\n",
       "      <th>...</th>\n",
       "      <td>...</td>\n",
       "      <td>...</td>\n",
       "      <td>...</td>\n",
       "    </tr>\n",
       "    <tr>\n",
       "      <th>1637</th>\n",
       "      <td>2022-06-26</td>\n",
       "      <td>3858</td>\n",
       "      <td>9586</td>\n",
       "    </tr>\n",
       "    <tr>\n",
       "      <th>1638</th>\n",
       "      <td>2022-06-27</td>\n",
       "      <td>15647</td>\n",
       "      <td>35442</td>\n",
       "    </tr>\n",
       "    <tr>\n",
       "      <th>1639</th>\n",
       "      <td>2022-06-28</td>\n",
       "      <td>12438</td>\n",
       "      <td>28493</td>\n",
       "    </tr>\n",
       "    <tr>\n",
       "      <th>1640</th>\n",
       "      <td>2022-06-29</td>\n",
       "      <td>8713</td>\n",
       "      <td>31095</td>\n",
       "    </tr>\n",
       "    <tr>\n",
       "      <th>1641</th>\n",
       "      <td>2022-06-30</td>\n",
       "      <td>9501</td>\n",
       "      <td>28933</td>\n",
       "    </tr>\n",
       "  </tbody>\n",
       "</table>\n",
       "<p>1642 rows × 3 columns</p>\n",
       "</div>"
      ],
      "text/plain": [
       "TIPO_TEMPO       DATA  Notizia  Parola\n",
       "0          2018-01-01     8543    5404\n",
       "1          2018-01-02    13613    8908\n",
       "2          2018-01-03    18222   16568\n",
       "3          2018-01-04    17561   19757\n",
       "4          2018-01-05    16868   14548\n",
       "...               ...      ...     ...\n",
       "1637       2022-06-26     3858    9586\n",
       "1638       2022-06-27    15647   35442\n",
       "1639       2022-06-28    12438   28493\n",
       "1640       2022-06-29     8713   31095\n",
       "1641       2022-06-30     9501   28933\n",
       "\n",
       "[1642 rows x 3 columns]"
      ]
     },
     "execution_count": 21,
     "metadata": {},
     "output_type": "execute_result"
    }
   ],
   "source": [
    "volume_notizie_parole\n"
   ]
  },
  {
   "cell_type": "code",
   "execution_count": 27,
   "metadata": {},
   "outputs": [],
   "source": [
    "volume_notizie_parole['TOTALE'] = volume_notizie_parole['Notizia'] + volume_notizie_parole['Parola']"
   ]
  },
  {
   "cell_type": "code",
   "execution_count": 28,
   "metadata": {},
   "outputs": [
    {
     "data": {
      "text/html": [
       "<div>\n",
       "<style scoped>\n",
       "    .dataframe tbody tr th:only-of-type {\n",
       "        vertical-align: middle;\n",
       "    }\n",
       "\n",
       "    .dataframe tbody tr th {\n",
       "        vertical-align: top;\n",
       "    }\n",
       "\n",
       "    .dataframe thead th {\n",
       "        text-align: right;\n",
       "    }\n",
       "</style>\n",
       "<table border=\"1\" class=\"dataframe\">\n",
       "  <thead>\n",
       "    <tr style=\"text-align: right;\">\n",
       "      <th>TIPO_TEMPO</th>\n",
       "      <th>DATA</th>\n",
       "      <th>Notizia</th>\n",
       "      <th>Parola</th>\n",
       "      <th>TOTALE</th>\n",
       "    </tr>\n",
       "  </thead>\n",
       "  <tbody>\n",
       "    <tr>\n",
       "      <th>1114</th>\n",
       "      <td>2021-01-19</td>\n",
       "      <td>18186</td>\n",
       "      <td>163020</td>\n",
       "      <td>181206</td>\n",
       "    </tr>\n",
       "  </tbody>\n",
       "</table>\n",
       "</div>"
      ],
      "text/plain": [
       "TIPO_TEMPO       DATA  Notizia  Parola  TOTALE\n",
       "1114       2021-01-19    18186  163020  181206"
      ]
     },
     "execution_count": 28,
     "metadata": {},
     "output_type": "execute_result"
    }
   ],
   "source": [
    "volume_notizie_parole[volume_notizie_parole.TOTALE == volume_notizie_parole.TOTALE.max()]\n"
   ]
  },
  {
   "cell_type": "code",
   "execution_count": 29,
   "metadata": {},
   "outputs": [
    {
     "data": {
      "text/html": [
       "<div>\n",
       "<style scoped>\n",
       "    .dataframe tbody tr th:only-of-type {\n",
       "        vertical-align: middle;\n",
       "    }\n",
       "\n",
       "    .dataframe tbody tr th {\n",
       "        vertical-align: top;\n",
       "    }\n",
       "\n",
       "    .dataframe thead th {\n",
       "        text-align: right;\n",
       "    }\n",
       "</style>\n",
       "<table border=\"1\" class=\"dataframe\">\n",
       "  <thead>\n",
       "    <tr style=\"text-align: right;\">\n",
       "      <th>TIPO_TEMPO</th>\n",
       "      <th>DATA</th>\n",
       "      <th>Notizia</th>\n",
       "      <th>Parola</th>\n",
       "      <th>TOTALE</th>\n",
       "    </tr>\n",
       "  </thead>\n",
       "  <tbody>\n",
       "    <tr>\n",
       "      <th>61</th>\n",
       "      <td>2018-03-03</td>\n",
       "      <td>463</td>\n",
       "      <td>883</td>\n",
       "      <td>1346</td>\n",
       "    </tr>\n",
       "  </tbody>\n",
       "</table>\n",
       "</div>"
      ],
      "text/plain": [
       "TIPO_TEMPO       DATA  Notizia  Parola  TOTALE\n",
       "61         2018-03-03      463     883    1346"
      ]
     },
     "execution_count": 29,
     "metadata": {},
     "output_type": "execute_result"
    }
   ],
   "source": [
    "volume_notizie_parole[volume_notizie_parole.TOTALE ==\n",
    "                      volume_notizie_parole.TOTALE.min()]\n"
   ]
  },
  {
   "cell_type": "code",
   "execution_count": 57,
   "metadata": {},
   "outputs": [],
   "source": [
    "out = \"\"\n",
    "for idx,row in volume_notizie_parole.iterrows():\n",
    "    day = row.DATA.strftime('%Y/%m/%d')\n",
    "    parole = round(row.Parola / 60,2)\n",
    "    notize = round(row.Notizia /60,2)\n",
    "    out += \"['%s', %s, 'INTERVENTI'],\" % (day, parole)\n",
    "    out += \"['%s', %s, 'NOTIZIE'],\" % (day, notize)\n"
   ]
  }
 ],
 "metadata": {
  "kernelspec": {
   "display_name": "Python 3.10.4 64-bit",
   "language": "python",
   "name": "python3"
  },
  "language_info": {
   "codemirror_mode": {
    "name": "ipython",
    "version": 3
   },
   "file_extension": ".py",
   "mimetype": "text/x-python",
   "name": "python",
   "nbconvert_exporter": "python",
   "pygments_lexer": "ipython3",
   "version": "3.10.4"
  },
  "orig_nbformat": 4,
  "vscode": {
   "interpreter": {
    "hash": "31f2aee4e71d21fbe5cf8b01ff0e069b9275f58929596ceb00d14d90e3e16cd6"
   }
  }
 },
 "nbformat": 4,
 "nbformat_minor": 2
}
