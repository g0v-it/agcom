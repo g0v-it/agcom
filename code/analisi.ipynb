{
 "cells": [
  {
   "cell_type": "code",
   "execution_count": 216,
   "metadata": {},
   "outputs": [],
   "source": [
    "import pandas as pd\n",
    "import os\n",
    "import numpy as np"
   ]
  },
  {
   "cell_type": "code",
   "execution_count": 217,
   "metadata": {},
   "outputs": [],
   "source": [
    "data = pd.read_parquet(\"..\" + os.sep + \"data\" + os.sep +\n",
    "                \"dati_presenze_politici.parquet\")\n"
   ]
  },
  {
   "cell_type": "markdown",
   "metadata": {},
   "source": [
    "trasformazione delle date in oggetti datetime"
   ]
  },
  {
   "cell_type": "code",
   "execution_count": 218,
   "metadata": {},
   "outputs": [],
   "source": [
    "data['DATA'] = data['DATA'].apply(lambda x: x.replace(\" 00:00\",\"\"))\n",
    "data['DATA'] = data['DATA'].apply(lambda x: x.replace(\":00\",\"\"))\n",
    "data.DATA = pd.to_datetime(data[\"DATA\"],  format=\"%d.%m.%Y\")\n"
   ]
  },
  {
   "cell_type": "code",
   "execution_count": 219,
   "metadata": {},
   "outputs": [
    {
     "data": {
      "text/html": [
       "<div>\n",
       "<style scoped>\n",
       "    .dataframe tbody tr th:only-of-type {\n",
       "        vertical-align: middle;\n",
       "    }\n",
       "\n",
       "    .dataframe tbody tr th {\n",
       "        vertical-align: top;\n",
       "    }\n",
       "\n",
       "    .dataframe thead th {\n",
       "        text-align: right;\n",
       "    }\n",
       "</style>\n",
       "<table border=\"1\" class=\"dataframe\">\n",
       "  <thead>\n",
       "    <tr style=\"text-align: right;\">\n",
       "      <th></th>\n",
       "      <th>CANALE</th>\n",
       "      <th>PROGRAMMA</th>\n",
       "      <th>DATA</th>\n",
       "      <th>COGNOME</th>\n",
       "      <th>NOME</th>\n",
       "      <th>MICRO_CATEGORIA</th>\n",
       "      <th>ARGOMENTO</th>\n",
       "      <th>DURATA</th>\n",
       "      <th>TIPO_TEMPO</th>\n",
       "    </tr>\n",
       "  </thead>\n",
       "  <tbody>\n",
       "    <tr>\n",
       "      <th>2</th>\n",
       "      <td>CANALE 5</td>\n",
       "      <td>TG5</td>\n",
       "      <td>2022-01-01</td>\n",
       "      <td>Berlusconi</td>\n",
       "      <td>Silvio</td>\n",
       "      <td>PDL - Forza Italia</td>\n",
       "      <td>Politica e attività istituzionali</td>\n",
       "      <td>42</td>\n",
       "      <td>Notizia</td>\n",
       "    </tr>\n",
       "    <tr>\n",
       "      <th>3</th>\n",
       "      <td>CANALE 5</td>\n",
       "      <td>TG5</td>\n",
       "      <td>2022-01-01</td>\n",
       "      <td>Calenda</td>\n",
       "      <td>Carlo</td>\n",
       "      <td>Azione - +Europa - Radicali Italiani</td>\n",
       "      <td>Politica e attività istituzionali</td>\n",
       "      <td>6</td>\n",
       "      <td>Notizia</td>\n",
       "    </tr>\n",
       "    <tr>\n",
       "      <th>4</th>\n",
       "      <td>CANALE 5</td>\n",
       "      <td>TG5</td>\n",
       "      <td>2022-01-01</td>\n",
       "      <td>Conte</td>\n",
       "      <td>Giuseppe</td>\n",
       "      <td>Movimento 5 Stelle</td>\n",
       "      <td>Politica e attività istituzionali</td>\n",
       "      <td>36</td>\n",
       "      <td>Notizia</td>\n",
       "    </tr>\n",
       "    <tr>\n",
       "      <th>5</th>\n",
       "      <td>CANALE 5</td>\n",
       "      <td>TG5</td>\n",
       "      <td>2022-01-01</td>\n",
       "      <td>D'Amato</td>\n",
       "      <td>Alessio</td>\n",
       "      <td>Partito Democratico</td>\n",
       "      <td>Cronaca</td>\n",
       "      <td>3</td>\n",
       "      <td>Notizia</td>\n",
       "    </tr>\n",
       "  </tbody>\n",
       "</table>\n",
       "</div>"
      ],
      "text/plain": [
       "     CANALE PROGRAMMA       DATA     COGNOME      NOME  \\\n",
       "2  CANALE 5       TG5 2022-01-01  Berlusconi    Silvio   \n",
       "3  CANALE 5       TG5 2022-01-01     Calenda     Carlo   \n",
       "4  CANALE 5       TG5 2022-01-01       Conte  Giuseppe   \n",
       "5  CANALE 5       TG5 2022-01-01     D'Amato   Alessio   \n",
       "\n",
       "                        MICRO_CATEGORIA                          ARGOMENTO  \\\n",
       "2                    PDL - Forza Italia  Politica e attività istituzionali   \n",
       "3  Azione - +Europa - Radicali Italiani  Politica e attività istituzionali   \n",
       "4                    Movimento 5 Stelle  Politica e attività istituzionali   \n",
       "5                   Partito Democratico                            Cronaca   \n",
       "\n",
       "   DURATA TIPO_TEMPO  \n",
       "2      42    Notizia  \n",
       "3       6    Notizia  \n",
       "4      36    Notizia  \n",
       "5       3    Notizia  "
      ]
     },
     "execution_count": 219,
     "metadata": {},
     "output_type": "execute_result"
    }
   ],
   "source": [
    "data.head(4)"
   ]
  },
  {
   "cell_type": "markdown",
   "metadata": {},
   "source": [
    "filtro per soggetti collettivo"
   ]
  },
  {
   "cell_type": "code",
   "execution_count": 220,
   "metadata": {},
   "outputs": [],
   "source": [
    "dati_soggetti_colletivi = data[data.NOME == \"Soggetto Collettivo\"]\n",
    "#dati_soggetti_colletivi = dati_soggetti_colletivi[dati_soggetti_colletivi.NOME ==\n",
    "#                                        \"Soggettivo Collettivo\"]"
   ]
  },
  {
   "cell_type": "code",
   "execution_count": 221,
   "metadata": {},
   "outputs": [],
   "source": [
    "minuti_soggetti_collettivi = dati_soggetti_colletivi.groupby([\"COGNOME\"])[\"DURATA\"].sum().reset_index().fillna(0).sort_values(by=\"DURATA\", ascending=False)"
   ]
  },
  {
   "cell_type": "code",
   "execution_count": 275,
   "metadata": {},
   "outputs": [],
   "source": [
    "\n"
   ]
  },
  {
   "cell_type": "code",
   "execution_count": 282,
   "metadata": {},
   "outputs": [
    {
     "data": {
      "text/plain": [
       "944052"
      ]
     },
     "execution_count": 282,
     "metadata": {},
     "output_type": "execute_result"
    }
   ],
   "source": []
  },
  {
   "cell_type": "code",
   "execution_count": 298,
   "metadata": {},
   "outputs": [],
   "source": [
    "out = \"data: [\"\n",
    "for idx,row in minuti_soggetti_collettivi.iterrows():\n",
    "    name = row.COGNOME\n",
    "    value = round(row.DURATA / 60,2)   \n",
    "    #out += '{name: \"%s\", value: %s},' % (name, value)\n",
    "    minuti_soggetti_collettivi_tipo = dati_soggetti_colletivi[dati_soggetti_colletivi.COGNOME == \"Partito Democratico\"].groupby([\"TIPO_TEMPO\"])[\n",
    "        \"DURATA\"].sum().reset_index().fillna(0).sort_values(by=\"DURATA\", ascending=False)\n",
    "    notizia = minuti_soggetti_collettivi_tipo[minuti_soggetti_collettivi_tipo['TIPO_TEMPO']\n",
    "                                              == \"Notizia\"].DURATA.values[0]\n",
    "    parola = minuti_soggetti_collettivi_tipo[minuti_soggetti_collettivi_tipo['TIPO_TEMPO']\n",
    "                                             == \"Parola\"].DURATA.values[0]\n",
    "    out += '{name: \"%s\", value: %s,' % (name, value)\n",
    "    out += 'children: [{'\n",
    "    out += 'name: \"notizia\", value: %s},' % round(notizia / 60,2)\n",
    "    out += '{ name: \"parola\", value: %s}' % round(parola / 60, 2)\n",
    "    out += \"]},\"\n",
    "out = out[:-1] + \"]\"\n"
   ]
  },
  {
   "cell_type": "code",
   "execution_count": 299,
   "metadata": {},
   "outputs": [
    {
     "data": {
      "text/plain": [
       "'data: [{name: \"Movimento 5 Stelle\", value: 25002.78,children: [{name: \"notizia\", value: 15734.2},{ name: \"parola\", value: 0.38}]},{name: \"Partito Democratico\", value: 15734.58,children: [{name: \"notizia\", value: 15734.2},{ name: \"parola\", value: 0.38}]},{name: \"Lega Nord\", value: 9565.58,children: [{name: \"notizia\", value: 15734.2},{ name: \"parola\", value: 0.38}]},{name: \"PDL - Forza Italia\", value: 7237.23,children: [{name: \"notizia\", value: 15734.2},{ name: \"parola\", value: 0.38}]},{name: \"Fratelli d\\'Italia Centrodestra Nazionale\", value: 3294.9,children: [{name: \"notizia\", value: 15734.2},{ name: \"parola\", value: 0.38}]},{name: \"Italia Viva\", value: 3272.5,children: [{name: \"notizia\", value: 15734.2},{ name: \"parola\", value: 0.38}]},{name: \"Liberi e Uguali\", value: 1848.77,children: [{name: \"notizia\", value: 15734.2},{ name: \"parola\", value: 0.38}]},{name: \"Sardine\", value: 286.1,children: [{name: \"notizia\", value: 15734.2},{ name: \"parola\", value: 0.38}]},{name: \"Forza Nuova\", value: 266.57,children: [{name: \"notizia\", value: 15734.2},{ name: \"parola\", value: 0.38}]},{name: \"Casapound\", value: 222.97,children: [{name: \"notizia\", value: 15734.2},{ name: \"parola\", value: 0.38}]},{name: \"Piero Grasso-Liberi e Uguali\", value: 213.92,children: [{name: \"notizia\", value: 15734.2},{ name: \"parola\", value: 0.38}]},{name: \"+Europa\", value: 144.25,children: [{name: \"notizia\", value: 15734.2},{ name: \"parola\", value: 0.38}]},{name: \"+Europa-Centro Democratico\", value: 117.85,children: [{name: \"notizia\", value: 15734.2},{ name: \"parola\", value: 0.38}]},{name: \"Centro Democratico-Radicali Italiani-+Europa\", value: 114.77,children: [{name: \"notizia\", value: 15734.2},{ name: \"parola\", value: 0.38}]},{name: \"Partito Radicale Non Violento Transnazionale\", value: 103.42,children: [{name: \"notizia\", value: 15734.2},{ name: \"parola\", value: 0.38}]},{name: \"Udc\", value: 102.32,children: [{name: \"notizia\", value: 15734.2},{ name: \"parola\", value: 0.38}]},{name: \"CasaPound Italia ? Destre Unite\", value: 87.4,children: [{name: \"notizia\", value: 15734.2},{ name: \"parola\", value: 0.38}]},{name: \"Maie - Movimento Associativo Italiani all\\'Estero\", value: 85.68,children: [{name: \"notizia\", value: 15734.2},{ name: \"parola\", value: 0.38}]},{name: \"Azione - +Europa Radicali Italiani\", value: 84.2,children: [{name: \"notizia\", value: 15734.2},{ name: \"parola\", value: 0.38}]},{name: \"Radicali Italiani\", value: 84.12,children: [{name: \"notizia\", value: 15734.2},{ name: \"parola\", value: 0.38}]},{name: \"Civica Popolare\", value: 63.15,children: [{name: \"notizia\", value: 15734.2},{ name: \"parola\", value: 0.38}]},{name: \"Governo\", value: 59.27,children: [{name: \"notizia\", value: 15734.2},{ name: \"parola\", value: 0.38}]},{name: \"Noi con l\\'Italia\", value: 58.37,children: [{name: \"notizia\", value: 15734.2},{ name: \"parola\", value: 0.38}]},{name: \"La Sinistra\", value: 57.07,children: [{name: \"notizia\", value: 15734.2},{ name: \"parola\", value: 0.38}]},{name: \"L\\'Alternativa c\\'è!\", value: 53.38,children: [{name: \"notizia\", value: 15734.2},{ name: \"parola\", value: 0.38}]},{name: \"Gruppo Misto\", value: 52.83,children: [{name: \"notizia\", value: 15734.2},{ name: \"parola\", value: 0.38}]},{name: \"Potere al Popolo\", value: 49.63,children: [{name: \"notizia\", value: 15734.2},{ name: \"parola\", value: 0.38}]},{name: \"Per le autonomie-minoranze linguistiche\", value: 40.67,children: [{name: \"notizia\", value: 15734.2},{ name: \"parola\", value: 0.38}]},{name: \"Noi con l\\'Italia-Scelta Civica-Maie\", value: 39.52,children: [{name: \"notizia\", value: 15734.2},{ name: \"parola\", value: 0.38}]},{name: \"Europa Verde\", value: 39.15,children: [{name: \"notizia\", value: 15734.2},{ name: \"parola\", value: 0.38}]},{name: \"Partito Comunista\", value: 38.67,children: [{name: \"notizia\", value: 15734.2},{ name: \"parola\", value: 0.38}]},{name: \"Federazione dei Verdi\", value: 38.15,children: [{name: \"notizia\", value: 15734.2},{ name: \"parola\", value: 0.38}]},{name: \"Noi con l\\'Italia-USEI-Cambiamo!-Alleanza di Centro\", value: 37.87,children: [{name: \"notizia\", value: 15734.2},{ name: \"parola\", value: 0.38}]},{name: \"Insieme per il Futuro\", value: 37.75,children: [{name: \"notizia\", value: 15734.2},{ name: \"parola\", value: 0.38}]},{name: \"+Europa-Italia in Comune-PDE Italia\", value: 36.28,children: [{name: \"notizia\", value: 15734.2},{ name: \"parola\", value: 0.38}]},{name: \"L\\'Alternativa\", value: 28.62,children: [{name: \"notizia\", value: 15734.2},{ name: \"parola\", value: 0.38}]},{name: \"Insieme\", value: 24.85,children: [{name: \"notizia\", value: 15734.2},{ name: \"parola\", value: 0.38}]},{name: \"SVP-Sudtiroler Volkspartei\", value: 23.63,children: [{name: \"notizia\", value: 15734.2},{ name: \"parola\", value: 0.38}]},{name: \"Italia Europa Insieme\", value: 23.15,children: [{name: \"notizia\", value: 15734.2},{ name: \"parola\", value: 0.38}]},{name: \"Azione - +Europa � Radicali Italiani\", value: 22.97,children: [{name: \"notizia\", value: 15734.2},{ name: \"parola\", value: 0.38}]},{name: \"Azione\", value: 17.15,children: [{name: \"notizia\", value: 15734.2},{ name: \"parola\", value: 0.38}]},{name: \"Noi con l\\'Italia-USEI-Rinascimento-AdC\", value: 14.27,children: [{name: \"notizia\", value: 15734.2},{ name: \"parola\", value: 0.38}]},{name: \"Coraggio Italia-Idea-Cambiamo!-Europeisti-Noi Di Centro (Noi Campani)\", value: 13.32,children: [{name: \"notizia\", value: 15734.2},{ name: \"parola\", value: 0.38}]},{name: \"Union Valdotaine Progressiste\", value: 12.92,children: [{name: \"notizia\", value: 15734.2},{ name: \"parola\", value: 0.38}]},{name: \"Europa Verde-Federazione dei Verdi\", value: 11.65,children: [{name: \"notizia\", value: 15734.2},{ name: \"parola\", value: 0.38}]},{name: \"Democrazia Cristiana\", value: 11.28,children: [{name: \"notizia\", value: 15734.2},{ name: \"parola\", value: 0.38}]},{name: \"Coraggio Italia-Idea e Cambiamo\", value: 11.22,children: [{name: \"notizia\", value: 15734.2},{ name: \"parola\", value: 0.38}]},{name: \"Partito Socialista\", value: 11.07,children: [{name: \"notizia\", value: 15734.2},{ name: \"parola\", value: 0.38}]},{name: \"Democrazia Solidale-Centro Democratico\", value: 10.12,children: [{name: \"notizia\", value: 15734.2},{ name: \"parola\", value: 0.38}]},{name: \"10 Volte Meglio\", value: 9.77,children: [{name: \"notizia\", value: 15734.2},{ name: \"parola\", value: 0.38}]},{name: \"Gilet Arancioni\", value: 9.4,children: [{name: \"notizia\", value: 15734.2},{ name: \"parola\", value: 0.38}]},{name: \"Facciamo Eco Federazione dei Verdi\", value: 8.23,children: [{name: \"notizia\", value: 15734.2},{ name: \"parola\", value: 0.38}]},{name: \"Partito Pirata\", value: 7.77,children: [{name: \"notizia\", value: 15734.2},{ name: \"parola\", value: 0.38}]},{name: \"Partito Animalista\", value: 7.72,children: [{name: \"notizia\", value: 15734.2},{ name: \"parola\", value: 0.38}]},{name: \"Popolo della Famiglia\", value: 7.72,children: [{name: \"notizia\", value: 15734.2},{ name: \"parola\", value: 0.38}]},{name: \"Alleanza Liberal Popolare-Partito Repubblicano Italiano (ALA-PRI)\", value: 7.55,children: [{name: \"notizia\", value: 15734.2},{ name: \"parola\", value: 0.38}]},{name: \"Partito Sardo d\\'Azione\", value: 7.25,children: [{name: \"notizia\", value: 15734.2},{ name: \"parola\", value: 0.38}]},{name: \"Cambiamo!-Popolo Protagonista\", value: 7.18,children: [{name: \"notizia\", value: 15734.2},{ name: \"parola\", value: 0.38}]},{name: \"SI-SEL-POS-Liberi e Uguali\", value: 6.98,children: [{name: \"notizia\", value: 15734.2},{ name: \"parola\", value: 0.38}]},{name: \"Centro Democratico-Italiani In Europa-Europeisti-MAIE\", value: 6.65,children: [{name: \"notizia\", value: 15734.2},{ name: \"parola\", value: 0.38}]},{name: \"Comitato noiNo\", value: 6.38,children: [{name: \"notizia\", value: 15734.2},{ name: \"parola\", value: 0.38}]},{name: \"Manifesta, Potere al Popolo, Partito della Rifondazione Comunista-Sinistra Europea\", value: 6.22,children: [{name: \"notizia\", value: 15734.2},{ name: \"parola\", value: 0.38}]},{name: \"Rifondazione Comunista\", value: 6.02,children: [{name: \"notizia\", value: 15734.2},{ name: \"parola\", value: 0.38}]},{name: \"Italia dei valori\", value: 5.63,children: [{name: \"notizia\", value: 15734.2},{ name: \"parola\", value: 0.38}]},{name: \"Partito Valore Umano\", value: 5.62,children: [{name: \"notizia\", value: 15734.2},{ name: \"parola\", value: 0.38}]},{name: \"C.A.L. (Costituzione, Ambiente, Lavoro)-Alternativa-P.C.-I.d.V\", value: 5.58,children: [{name: \"notizia\", value: 15734.2},{ name: \"parola\", value: 0.38}]},{name: \"Europa Verde - Verdi Europei\", value: 5.4,children: [{name: \"notizia\", value: 15734.2},{ name: \"parola\", value: 0.38}]},{name: \"Italia al Centro-Coraggio Italia\", value: 5.38,children: [{name: \"notizia\", value: 15734.2},{ name: \"parola\", value: 0.38}]},{name: \"Popolo della famiglia-Alternativa Popolare\", value: 5.2,children: [{name: \"notizia\", value: 15734.2},{ name: \"parola\", value: 0.38}]},{name: \"L\\'Italia in comune\", value: 4.92,children: [{name: \"notizia\", value: 15734.2},{ name: \"parola\", value: 0.38}]},{name: \"Sacro Romano Impero Cattolico\", value: 4.92,children: [{name: \"notizia\", value: 15734.2},{ name: \"parola\", value: 0.38}]},{name: \"Comitato per il No al taglio del Parlamento\", value: 4.85,children: [{name: \"notizia\", value: 15734.2},{ name: \"parola\", value: 0.38}]},{name: \"Coraggio Italia-Idea e Cambiamo-Europeisti\", value: 4.77,children: [{name: \"notizia\", value: 15734.2},{ name: \"parola\", value: 0.38}]},{name: \"Civica Popolare-Ap-Psi-Area Civica\", value: 4.58,children: [{name: \"notizia\", value: 15734.2},{ name: \"parola\", value: 0.38}]},{name: \"Per una Sinistra Rivoluzionaria\", value: 4.45,children: [{name: \"notizia\", value: 15734.2},{ name: \"parola\", value: 0.38}]},{name: \"GAL Grandi autonomie e libertà\", value: 4.35,children: [{name: \"notizia\", value: 15734.2},{ name: \"parola\", value: 0.38}]},{name: \"Popolari per l?Italia\", value: 4.25,children: [{name: \"notizia\", value: 15734.2},{ name: \"parola\", value: 0.38}]},{name: \"Viva la Fisica\", value: 4.2,children: [{name: \"notizia\", value: 15734.2},{ name: \"parola\", value: 0.38}]},{name: \"Autonomie per l\\'Europa\", value: 4.13,children: [{name: \"notizia\", value: 15734.2},{ name: \"parola\", value: 0.38}]},{name: \"Popolo per la Costituzione\", value: 4.08,children: [{name: \"notizia\", value: 15734.2},{ name: \"parola\", value: 0.38}]},{name: \"Italia agli italiani\", value: 4.07,children: [{name: \"notizia\", value: 15734.2},{ name: \"parola\", value: 0.38}]},{name: \"Italexit\", value: 4.05,children: [{name: \"notizia\", value: 15734.2},{ name: \"parola\", value: 0.38}]},{name: \"Mamme nel mondo\", value: 4.03,children: [{name: \"notizia\", value: 15734.2},{ name: \"parola\", value: 0.38}]},{name: \"Movimento Animalista\", value: 3.92,children: [{name: \"notizia\", value: 15734.2},{ name: \"parola\", value: 0.38}]},{name: \"Team Kollensperger\", value: 3.8,children: [{name: \"notizia\", value: 15734.2},{ name: \"parola\", value: 0.38}]},{name: \"Civici e Innovatori-Energie per l\\'Italia\", value: 3.73,children: [{name: \"notizia\", value: 15734.2},{ name: \"parola\", value: 0.38}]},{name: \"MAIE-Psi-Facciamo Eco\", value: 3.53,children: [{name: \"notizia\", value: 15734.2},{ name: \"parola\", value: 0.38}]},{name: \"Idea\", value: 3.48,children: [{name: \"notizia\", value: 15734.2},{ name: \"parola\", value: 0.38}]},{name: \"Verità\", value: 3.3,children: [{name: \"notizia\", value: 15734.2},{ name: \"parola\", value: 0.38}]},{name: \"Movimento dei Forconi\", value: 3.2,children: [{name: \"notizia\", value: 15734.2},{ name: \"parola\", value: 0.38}]},{name: \"Partito Internettiano\", value: 3.0,children: [{name: \"notizia\", value: 15734.2},{ name: \"parola\", value: 0.38}]},{name: \"Movimento Poeti d\\'azione\", value: 2.85,children: [{name: \"notizia\", value: 15734.2},{ name: \"parola\", value: 0.38}]},{name: \"Azione - +Europa ? Radicali Italiani\", value: 2.67,children: [{name: \"notizia\", value: 15734.2},{ name: \"parola\", value: 0.38}]},{name: \"Articolo 1- Movimento Democratico Progressista\", value: 2.63,children: [{name: \"notizia\", value: 15734.2},{ name: \"parola\", value: 0.38}]},{name: \"Unione Tricolore America Latina\", value: 2.52,children: [{name: \"notizia\", value: 15734.2},{ name: \"parola\", value: 0.38}]},{name: \"Lista del Popolo\", value: 2.35,children: [{name: \"notizia\", value: 15734.2},{ name: \"parola\", value: 0.38}]},{name: \"Beppe Sala - Noi, Milano\", value: 2.35,children: [{name: \"notizia\", value: 15734.2},{ name: \"parola\", value: 0.38}]},{name: \"Partito dei Comunisti Italiani\", value: 2.32,children: [{name: \"notizia\", value: 15734.2},{ name: \"parola\", value: 0.38}]},{name: \"Lista De Magistris Sindaco per Napoli\", value: 2.25,children: [{name: \"notizia\", value: 15734.2},{ name: \"parola\", value: 0.38}]},{name: \"Centro Democratico - Italiani in Europa\", value: 1.92,children: [{name: \"notizia\", value: 15734.2},{ name: \"parola\", value: 0.38}]},{name: \"Unione Monarchica Italiana\", value: 1.88,children: [{name: \"notizia\", value: 15734.2},{ name: \"parola\", value: 0.38}]},{name: \"Stella Alpina-Valle d\\'Aosta\", value: 1.88,children: [{name: \"notizia\", value: 15734.2},{ name: \"parola\", value: 0.38}]},{name: \"Cambiamo!\", value: 1.87,children: [{name: \"notizia\", value: 15734.2},{ name: \"parola\", value: 0.38}]},{name: \"Partito Liberale Italiano\", value: 1.85,children: [{name: \"notizia\", value: 15734.2},{ name: \"parola\", value: 0.38}]},{name: \"Libertà\", value: 1.85,children: [{name: \"notizia\", value: 15734.2},{ name: \"parola\", value: 0.38}]},{name: \"Partito delle Buone Maniere\", value: 1.8,children: [{name: \"notizia\", value: 15734.2},{ name: \"parola\", value: 0.38}]},{name: \"Socialisti e Democratici\", value: 1.63,children: [{name: \"notizia\", value: 15734.2},{ name: \"parola\", value: 0.38}]},{name: \"SMS - Stato moderno e solidale\", value: 1.6,children: [{name: \"notizia\", value: 15734.2},{ name: \"parola\", value: 0.38}]},{name: \"Movimento tecnico nazionale popolare pace\", value: 1.52,children: [{name: \"notizia\", value: 15734.2},{ name: \"parola\", value: 0.38}]},{name: \"Movimento Nazionale per la Sovranità\", value: 1.5,children: [{name: \"notizia\", value: 15734.2},{ name: \"parola\", value: 0.38}]},{name: \"Union Valdôtaine\", value: 1.45,children: [{name: \"notizia\", value: 15734.2},{ name: \"parola\", value: 0.38}]},{name: \"Lealtà Azione\", value: 1.42,children: [{name: \"notizia\", value: 15734.2},{ name: \"parola\", value: 0.38}]},{name: \"Rinascimento\", value: 1.38,children: [{name: \"notizia\", value: 15734.2},{ name: \"parola\", value: 0.38}]},{name: \"Grande Nord\", value: 1.32,children: [{name: \"notizia\", value: 15734.2},{ name: \"parola\", value: 0.38}]},{name: \"Cambiamo! 10 volte meglio\", value: 1.27,children: [{name: \"notizia\", value: 15734.2},{ name: \"parola\", value: 0.38}]},{name: \"La Catena\", value: 1.27,children: [{name: \"notizia\", value: 15734.2},{ name: \"parola\", value: 0.38}]},{name: \"PPA Movimento Politico Pensiero Azione\", value: 1.23,children: [{name: \"notizia\", value: 15734.2},{ name: \"parola\", value: 0.38}]},{name: \"Noi con l\\'Italia-USEI\", value: 1.22,children: [{name: \"notizia\", value: 15734.2},{ name: \"parola\", value: 0.38}]},{name: \"Centro Cristiano Democratico\", value: 1.2,children: [{name: \"notizia\", value: 15734.2},{ name: \"parola\", value: 0.38}]},{name: \"Partito Autonomista Trentino Tirolese-Patt\", value: 1.08,children: [{name: \"notizia\", value: 15734.2},{ name: \"parola\", value: 0.38}]},{name: \"Partito gay LGBT+\", value: 1.08,children: [{name: \"notizia\", value: 15734.2},{ name: \"parola\", value: 0.38}]},{name: \"Centro Democratico\", value: 1.05,children: [{name: \"notizia\", value: 15734.2},{ name: \"parola\", value: 0.38}]},{name: \"Facciamo Eco - Federazione dei Verdi\", value: 1.05,children: [{name: \"notizia\", value: 15734.2},{ name: \"parola\", value: 0.38}]},{name: \"Popolo Viola\", value: 1.0,children: [{name: \"notizia\", value: 15734.2},{ name: \"parola\", value: 0.38}]},{name: \"Civici e Innovatori - Energie per l\\'Italia\", value: 0.97,children: [{name: \"notizia\", value: 15734.2},{ name: \"parola\", value: 0.38}]},{name: \"Progetto Civico Progressista\", value: 0.92,children: [{name: \"notizia\", value: 15734.2},{ name: \"parola\", value: 0.38}]},{name: \"Unione Imprenditori Lavoratori Socialisti\", value: 0.9,children: [{name: \"notizia\", value: 15734.2},{ name: \"parola\", value: 0.38}]},{name: \"Liga Veneta\", value: 0.88,children: [{name: \"notizia\", value: 15734.2},{ name: \"parola\", value: 0.38}]},{name: \"Zaia Presidente\", value: 0.82,children: [{name: \"notizia\", value: 15734.2},{ name: \"parola\", value: 0.38}]},{name: \"Partito Socialista Italiano\", value: 0.78,children: [{name: \"notizia\", value: 15734.2},{ name: \"parola\", value: 0.38}]},{name: \"Movimento Verde è Popolare\", value: 0.78,children: [{name: \"notizia\", value: 15734.2},{ name: \"parola\", value: 0.38}]},{name: \"Lombardia Progressista\", value: 0.75,children: [{name: \"notizia\", value: 15734.2},{ name: \"parola\", value: 0.38}]},{name: \"Rivoluzione Cristiana\", value: 0.75,children: [{name: \"notizia\", value: 15734.2},{ name: \"parola\", value: 0.38}]},{name: \"Comitato per il NO ai referendum sulla giustizia\", value: 0.75,children: [{name: \"notizia\", value: 15734.2},{ name: \"parola\", value: 0.38}]},{name: \"Partito Gay\", value: 0.73,children: [{name: \"notizia\", value: 15734.2},{ name: \"parola\", value: 0.38}]},{name: \"Avanguardia nazionale\", value: 0.73,children: [{name: \"notizia\", value: 15734.2},{ name: \"parola\", value: 0.38}]},{name: \"Nerone Movimento Storico Romano\", value: 0.73,children: [{name: \"notizia\", value: 15734.2},{ name: \"parola\", value: 0.38}]},{name: \"Centro Solidale per Zingaretti\", value: 0.7,children: [{name: \"notizia\", value: 15734.2},{ name: \"parola\", value: 0.38}]},{name: \"Popolo delle Partite Iva\", value: 0.67,children: [{name: \"notizia\", value: 15734.2},{ name: \"parola\", value: 0.38}]},{name: \"Alternativa Popolare-Centristi per l\\'Europa\", value: 0.65,children: [{name: \"notizia\", value: 15734.2},{ name: \"parola\", value: 0.38}]},{name: \"Italia dei Diritti\", value: 0.65,children: [{name: \"notizia\", value: 15734.2},{ name: \"parola\", value: 0.38}]},{name: \"Democrazia Solidale\", value: 0.58,children: [{name: \"notizia\", value: 15734.2},{ name: \"parola\", value: 0.38}]},{name: \"Italia agli Italiani\", value: 0.58,children: [{name: \"notizia\", value: 15734.2},{ name: \"parola\", value: 0.38}]},{name: \"Dieci volte meglio\", value: 0.58,children: [{name: \"notizia\", value: 15734.2},{ name: \"parola\", value: 0.38}]},{name: \"Lista del Grillo\", value: 0.57,children: [{name: \"notizia\", value: 15734.2},{ name: \"parola\", value: 0.38}]},{name: \"Cominciamo dal No\", value: 0.53,children: [{name: \"notizia\", value: 15734.2},{ name: \"parola\", value: 0.38}]},{name: \"Movimento Gente Onesta\", value: 0.53,children: [{name: \"notizia\", value: 15734.2},{ name: \"parola\", value: 0.38}]},{name: \"Movimento Astensionista\", value: 0.53,children: [{name: \"notizia\", value: 15734.2},{ name: \"parola\", value: 0.38}]},{name: \"Disoccupati-precari-esodati\", value: 0.52,children: [{name: \"notizia\", value: 15734.2},{ name: \"parola\", value: 0.38}]},{name: \"Volt Italia\", value: 0.5,children: [{name: \"notizia\", value: 15734.2},{ name: \"parola\", value: 0.38}]},{name: \"Giovani Padani\", value: 0.5,children: [{name: \"notizia\", value: 15734.2},{ name: \"parola\", value: 0.38}]},{name: \"Recupero Maltolto\", value: 0.48,children: [{name: \"notizia\", value: 15734.2},{ name: \"parola\", value: 0.38}]},{name: \"Movimento Meritocrazia Italia\", value: 0.48,children: [{name: \"notizia\", value: 15734.2},{ name: \"parola\", value: 0.38}]},{name: \"Alpe\", value: 0.47,children: [{name: \"notizia\", value: 15734.2},{ name: \"parola\", value: 0.38}]},{name: \"Italia nel cuore\", value: 0.47,children: [{name: \"notizia\", value: 15734.2},{ name: \"parola\", value: 0.38}]},{name: \"Movimento Sociale Italiano\", value: 0.47,children: [{name: \"notizia\", value: 15734.2},{ name: \"parola\", value: 0.38}]},{name: \"Adesso Trieste\", value: 0.43,children: [{name: \"notizia\", value: 15734.2},{ name: \"parola\", value: 0.38}]},{name: \"Diventerà\", value: 0.42,children: [{name: \"notizia\", value: 15734.2},{ name: \"parola\", value: 0.38}]},{name: \"Italia Madre\", value: 0.4,children: [{name: \"notizia\", value: 15734.2},{ name: \"parola\", value: 0.38}]},{name: \"Impegno Civico VdA\", value: 0.4,children: [{name: \"notizia\", value: 15734.2},{ name: \"parola\", value: 0.38}]},{name: \"Alliance Valdotaine\", value: 0.4,children: [{name: \"notizia\", value: 15734.2},{ name: \"parola\", value: 0.38}]},{name: \"Free flights to Italy\", value: 0.38,children: [{name: \"notizia\", value: 15734.2},{ name: \"parola\", value: 0.38}]},{name: \"Partito Liberale Europeo\", value: 0.37,children: [{name: \"notizia\", value: 15734.2},{ name: \"parola\", value: 0.38}]},{name: \"Sicilia Attiva\", value: 0.35,children: [{name: \"notizia\", value: 15734.2},{ name: \"parola\", value: 0.38}]},{name: \"Orgoglio Molise\", value: 0.35,children: [{name: \"notizia\", value: 15734.2},{ name: \"parola\", value: 0.38}]},{name: \"Udeur\", value: 0.35,children: [{name: \"notizia\", value: 15734.2},{ name: \"parola\", value: 0.38}]},{name: \"Buongiorno Livorno\", value: 0.33,children: [{name: \"notizia\", value: 15734.2},{ name: \"parola\", value: 0.38}]},{name: \"PCI\", value: 0.33,children: [{name: \"notizia\", value: 15734.2},{ name: \"parola\", value: 0.38}]},{name: \"Partito Comunista dei Lavoratori\", value: 0.3,children: [{name: \"notizia\", value: 15734.2},{ name: \"parola\", value: 0.38}]},{name: \"No Riforma Forense\", value: 0.3,children: [{name: \"notizia\", value: 15734.2},{ name: \"parola\", value: 0.38}]},{name: \"Noi di Centro\", value: 0.3,children: [{name: \"notizia\", value: 15734.2},{ name: \"parola\", value: 0.38}]},{name: \"Usei Unione Sudamericana Emigrati Italiani\", value: 0.3,children: [{name: \"notizia\", value: 15734.2},{ name: \"parola\", value: 0.38}]},{name: \"Comitato io Dico Sì\", value: 0.3,children: [{name: \"notizia\", value: 15734.2},{ name: \"parola\", value: 0.38}]},{name: \"Noi con Salvini\", value: 0.28,children: [{name: \"notizia\", value: 15734.2},{ name: \"parola\", value: 0.38}]},{name: \"Centristi per l\\'Europa\", value: 0.27,children: [{name: \"notizia\", value: 15734.2},{ name: \"parola\", value: 0.38}]},{name: \"L\\'Italia è popolare\", value: 0.27,children: [{name: \"notizia\", value: 15734.2},{ name: \"parola\", value: 0.38}]},{name: \"Il Megafono\", value: 0.27,children: [{name: \"notizia\", value: 15734.2},{ name: \"parola\", value: 0.38}]},{name: \"La Luce del Sud\", value: 0.27,children: [{name: \"notizia\", value: 15734.2},{ name: \"parola\", value: 0.38}]},{name: \"Fiamma Tricolore\", value: 0.27,children: [{name: \"notizia\", value: 15734.2},{ name: \"parola\", value: 0.38}]},{name: \"Morterone Insieme\", value: 0.25,children: [{name: \"notizia\", value: 15734.2},{ name: \"parola\", value: 0.38}]},{name: \"Partito Repubblicano\", value: 0.25,children: [{name: \"notizia\", value: 15734.2},{ name: \"parola\", value: 0.38}]},{name: \"Milano Popolare\", value: 0.25,children: [{name: \"notizia\", value: 15734.2},{ name: \"parola\", value: 0.38}]},{name: \"Partito socialista democratico italiano\", value: 0.23,children: [{name: \"notizia\", value: 15734.2},{ name: \"parola\", value: 0.38}]},{name: \"Progetto Italia\", value: 0.23,children: [{name: \"notizia\", value: 15734.2},{ name: \"parola\", value: 0.38}]},{name: \"Open-Sinistra Fvg\", value: 0.23,children: [{name: \"notizia\", value: 15734.2},{ name: \"parola\", value: 0.38}]},{name: \"Campo Progressista\", value: 0.22,children: [{name: \"notizia\", value: 15734.2},{ name: \"parola\", value: 0.38}]},{name: \"Riconquistare l\\'Italia - Fronte Sovranista Italiano\", value: 0.2,children: [{name: \"notizia\", value: 15734.2},{ name: \"parola\", value: 0.38}]},{name: \"Autonomia Responsabile\", value: 0.2,children: [{name: \"notizia\", value: 15734.2},{ name: \"parola\", value: 0.38}]},{name: \"Movimento Nuova Valle D\\'Aosta\", value: 0.2,children: [{name: \"notizia\", value: 15734.2},{ name: \"parola\", value: 0.38}]},{name: \"De Luca Presidente\", value: 0.18,children: [{name: \"notizia\", value: 15734.2},{ name: \"parola\", value: 0.38}]},{name: \"Indipendenza Veneta\", value: 0.17,children: [{name: \"notizia\", value: 15734.2},{ name: \"parola\", value: 0.38}]},{name: \"Sì Toscana a Sinistra\", value: 0.17,children: [{name: \"notizia\", value: 15734.2},{ name: \"parola\", value: 0.38}]},{name: \"Statuto dei lavoratori art. 18\", value: 0.17,children: [{name: \"notizia\", value: 15734.2},{ name: \"parola\", value: 0.38}]},{name: \"Tradition et Progrès - Vallée d\\'Aoste\", value: 0.17,children: [{name: \"notizia\", value: 15734.2},{ name: \"parola\", value: 0.38}]},{name: \"Destre Unite\", value: 0.17,children: [{name: \"notizia\", value: 15734.2},{ name: \"parola\", value: 0.38}]},{name: \"Torino bellissima\", value: 0.15,children: [{name: \"notizia\", value: 15734.2},{ name: \"parola\", value: 0.38}]},{name: \"Pensionati Consumatori\", value: 0.15,children: [{name: \"notizia\", value: 15734.2},{ name: \"parola\", value: 0.38}]},{name: \"Molise 2.0\", value: 0.15,children: [{name: \"notizia\", value: 15734.2},{ name: \"parola\", value: 0.38}]},{name: \"Molise di tutti\", value: 0.15,children: [{name: \"notizia\", value: 15734.2},{ name: \"parola\", value: 0.38}]},{name: \"L\\'Italia in crescita\", value: 0.15,children: [{name: \"notizia\", value: 15734.2},{ name: \"parola\", value: 0.38}]},{name: \"Lista Civica Zingaretti\", value: 0.13,children: [{name: \"notizia\", value: 15734.2},{ name: \"parola\", value: 0.38}]},{name: \"Fronte Verde\", value: 0.13,children: [{name: \"notizia\", value: 15734.2},{ name: \"parola\", value: 0.38}]},{name: \"Slovenska Skupnost\", value: 0.13,children: [{name: \"notizia\", value: 15734.2},{ name: \"parola\", value: 0.38}]},{name: \"Progetto Fvg\", value: 0.13,children: [{name: \"notizia\", value: 15734.2},{ name: \"parola\", value: 0.38}]},{name: \"Cambiamo Roma 2021\", value: 0.12,children: [{name: \"notizia\", value: 15734.2},{ name: \"parola\", value: 0.38}]},{name: \"Chiamparino per il Piemonte del sì\", value: 0.12,children: [{name: \"notizia\", value: 15734.2},{ name: \"parola\", value: 0.38}]},{name: \"Partito Pensionati\", value: 0.12,children: [{name: \"notizia\", value: 15734.2},{ name: \"parola\", value: 0.38}]},{name: \"Unione per il Molise\", value: 0.1,children: [{name: \"notizia\", value: 15734.2},{ name: \"parola\", value: 0.38}]},{name: \"Azione Civile\", value: 0.1,children: [{name: \"notizia\", value: 15734.2},{ name: \"parola\", value: 0.38}]},{name: \"Comitato Popolare per il No al taglio dei parlamentari\", value: 0.1,children: [{name: \"notizia\", value: 15734.2},{ name: \"parola\", value: 0.38}]},{name: \"Movimento Giustizia e Uguaglianza Sociale Sordi\", value: 0.1,children: [{name: \"notizia\", value: 15734.2},{ name: \"parola\", value: 0.38}]},{name: \"Scelta Civica-Maie\", value: 0.1,children: [{name: \"notizia\", value: 15734.2},{ name: \"parola\", value: 0.38}]},{name: \"Nuova Valle d\\'Aosta\", value: 0.1,children: [{name: \"notizia\", value: 15734.2},{ name: \"parola\", value: 0.38}]},{name: \"Patto Per l\\'Autonomia\", value: 0.08,children: [{name: \"notizia\", value: 15734.2},{ name: \"parola\", value: 0.38}]},{name: \"Area Civica\", value: 0.08,children: [{name: \"notizia\", value: 15734.2},{ name: \"parola\", value: 0.38}]},{name: \"Cittadini per Bolzonello\", value: 0.08,children: [{name: \"notizia\", value: 15734.2},{ name: \"parola\", value: 0.38}]},{name: \"Vallée d\\'Aoste Unie\", value: 0.08,children: [{name: \"notizia\", value: 15734.2},{ name: \"parola\", value: 0.38}]},{name: \"Scirocco\", value: 0.08,children: [{name: \"notizia\", value: 15734.2},{ name: \"parola\", value: 0.38}]},{name: \"Iorio per il Molise\", value: 0.07,children: [{name: \"notizia\", value: 15734.2},{ name: \"parola\", value: 0.38}]},{name: \"L\\'Italia di Mameli\", value: 0.07,children: [{name: \"notizia\", value: 15734.2},{ name: \"parola\", value: 0.38}]},{name: \"Popolari per l\\'Italia\", value: 0.07,children: [{name: \"notizia\", value: 15734.2},{ name: \"parola\", value: 0.38}]},{name: \"Sinistra per la Lombardia\", value: 0.07,children: [{name: \"notizia\", value: 15734.2},{ name: \"parola\", value: 0.38}]},{name: \"Partito Popolare italiano\", value: 0.07,children: [{name: \"notizia\", value: 15734.2},{ name: \"parola\", value: 0.38}]},{name: \"Lista Civica con Giorgia\", value: 0.07,children: [{name: \"notizia\", value: 15734.2},{ name: \"parola\", value: 0.38}]},{name: \"Civica Calenda Sindaco\", value: 0.07,children: [{name: \"notizia\", value: 15734.2},{ name: \"parola\", value: 0.38}]},{name: \"Lista Civica per il Piemonte\", value: 0.07,children: [{name: \"notizia\", value: 15734.2},{ name: \"parola\", value: 0.38}]},{name: \"La Destra\", value: 0.07,children: [{name: \"notizia\", value: 15734.2},{ name: \"parola\", value: 0.38}]},{name: \"Fare!\", value: 0.07,children: [{name: \"notizia\", value: 15734.2},{ name: \"parola\", value: 0.38}]},{name: \"L\\'Altra Europa con Tsipras\", value: 0.05,children: [{name: \"notizia\", value: 15734.2},{ name: \"parola\", value: 0.38}]},{name: \"Comitato Democratici per il Sì\", value: 0.05,children: [{name: \"notizia\", value: 15734.2},{ name: \"parola\", value: 0.38}]},{name: \"Pensionati e invalidi - Giovani insieme\", value: 0.05,children: [{name: \"notizia\", value: 15734.2},{ name: \"parola\", value: 0.38}]},{name: \"Matteo Lepore Sindaco\", value: 0.05,children: [{name: \"notizia\", value: 15734.2},{ name: \"parola\", value: 0.38}]},{name: \"Mpa/Grande Sud\", value: 0.03,children: [{name: \"notizia\", value: 15734.2},{ name: \"parola\", value: 0.38}]},{name: \"Dema Democrazia Autonomia\", value: 0.03,children: [{name: \"notizia\", value: 15734.2},{ name: \"parola\", value: 0.38}]},{name: \"Muv - Movimento universitario valdostano\", value: 0.03,children: [{name: \"notizia\", value: 15734.2},{ name: \"parola\", value: 0.38}]},{name: \"Patto Civico\", value: 0.03,children: [{name: \"notizia\", value: 15734.2},{ name: \"parola\", value: 0.38}]},{name: \"Pour l\\'Autonomie\", value: 0.03,children: [{name: \"notizia\", value: 15734.2},{ name: \"parola\", value: 0.38}]},{name: \"NOstra - Comitato Giovanile per il No al Referendum Costituzionale\", value: 0.03,children: [{name: \"notizia\", value: 15734.2},{ name: \"parola\", value: 0.38}]},{name: \"BolognaCiPiace\", value: 0.03,children: [{name: \"notizia\", value: 15734.2},{ name: \"parola\", value: 0.38}]},{name: \"Cristiani Democratici Uniti\", value: 0.03,children: [{name: \"notizia\", value: 15734.2},{ name: \"parola\", value: 0.38}]},{name: \"Unione per il Trentino\", value: 0.02,children: [{name: \"notizia\", value: 15734.2},{ name: \"parola\", value: 0.38}]},{name: \"Unital\", value: 0.02,children: [{name: \"notizia\", value: 15734.2},{ name: \"parola\", value: 0.38}]},{name: \"Anche tu Conti\", value: 0.02,children: [{name: \"notizia\", value: 15734.2},{ name: \"parola\", value: 0.38}]},{name: \"Cristiani per la crescita felice\", value: 0.02,children: [{name: \"notizia\", value: 15734.2},{ name: \"parola\", value: 0.38}]}]'"
      ]
     },
     "execution_count": 299,
     "metadata": {},
     "output_type": "execute_result"
    }
   ],
   "source": [
    "out"
   ]
  },
  {
   "cell_type": "markdown",
   "metadata": {},
   "source": [
    "filtro per soli politici"
   ]
  },
  {
   "cell_type": "code",
   "execution_count": 224,
   "metadata": {},
   "outputs": [],
   "source": [
    "dati_politici = data[data.NOME != \"Soggettivo Collettivo\"]\n",
    "dati_politici = dati_politici[dati_politici.NOME != \"Soggetto Collettivo\"]"
   ]
  },
  {
   "cell_type": "markdown",
   "metadata": {},
   "source": [
    "creazione campo NOME_COGNOME"
   ]
  },
  {
   "cell_type": "code",
   "execution_count": 225,
   "metadata": {},
   "outputs": [],
   "source": [
    "dati_politici['NOME_COGNOME'] = dati_politici['NOME'] + \\\n",
    "    \" \" + dati_politici['COGNOME']\n"
   ]
  },
  {
   "cell_type": "markdown",
   "metadata": {},
   "source": [
    "calcolo presenze per politico"
   ]
  },
  {
   "cell_type": "code",
   "execution_count": 226,
   "metadata": {},
   "outputs": [],
   "source": [
    "presenze = dati_politici.pivot_table(index=\"NOME_COGNOME\",\n",
    "                             values=\"DURATA\", aggfunc=np.sum)#"
   ]
  },
  {
   "cell_type": "code",
   "execution_count": 227,
   "metadata": {},
   "outputs": [],
   "source": [
    "presenze.reset_index(inplace=True)\n"
   ]
  },
  {
   "cell_type": "code",
   "execution_count": 228,
   "metadata": {},
   "outputs": [],
   "source": [
    "presenze.sort_values(by=\"DURATA\", ascending=False, inplace=True)"
   ]
  },
  {
   "cell_type": "code",
   "execution_count": 229,
   "metadata": {},
   "outputs": [],
   "source": [
    "totale_politici = len(dati_politici.NOME_COGNOME.unique())\n"
   ]
  },
  {
   "cell_type": "code",
   "execution_count": 230,
   "metadata": {},
   "outputs": [
    {
     "data": {
      "text/plain": [
       "8547"
      ]
     },
     "execution_count": 230,
     "metadata": {},
     "output_type": "execute_result"
    }
   ],
   "source": [
    "totale_politici\n"
   ]
  },
  {
   "cell_type": "markdown",
   "metadata": {},
   "source": [
    "ricerca più presenti nell'ultimo decile"
   ]
  },
  {
   "cell_type": "code",
   "execution_count": 231,
   "metadata": {},
   "outputs": [],
   "source": [
    "#ultimo decile\n",
    "p = presenze.DURATA.quantile(0.9)"
   ]
  },
  {
   "cell_type": "code",
   "execution_count": 232,
   "metadata": {},
   "outputs": [],
   "source": [
    "presenze_politici_rilevanti = presenze[(presenze.DURATA > presenze.DURATA.quantile(0.9)) & (presenze.DURATA <= presenze.DURATA.max())]\n"
   ]
  },
  {
   "cell_type": "markdown",
   "metadata": {},
   "source": [
    "di questi prendiamo l'ultimo decile"
   ]
  },
  {
   "cell_type": "code",
   "execution_count": 233,
   "metadata": {},
   "outputs": [],
   "source": [
    "presenze_politici_top_rilevanti = presenze[(presenze.DURATA > presenze_politici_rilevanti.DURATA.quantile(\n",
    "    0.9)) & (presenze.DURATA <= presenze.DURATA.max())]\n"
   ]
  },
  {
   "cell_type": "code",
   "execution_count": 234,
   "metadata": {},
   "outputs": [
    {
     "data": {
      "text/plain": [
       "86"
      ]
     },
     "execution_count": 234,
     "metadata": {},
     "output_type": "execute_result"
    }
   ],
   "source": [
    "presenze_politici_top_rilevanti.shape[0]"
   ]
  },
  {
   "cell_type": "code",
   "execution_count": 235,
   "metadata": {},
   "outputs": [
    {
     "data": {
      "text/html": [
       "<div>\n",
       "<style scoped>\n",
       "    .dataframe tbody tr th:only-of-type {\n",
       "        vertical-align: middle;\n",
       "    }\n",
       "\n",
       "    .dataframe tbody tr th {\n",
       "        vertical-align: top;\n",
       "    }\n",
       "\n",
       "    .dataframe thead th {\n",
       "        text-align: right;\n",
       "    }\n",
       "</style>\n",
       "<table border=\"1\" class=\"dataframe\">\n",
       "  <thead>\n",
       "    <tr style=\"text-align: right;\">\n",
       "      <th></th>\n",
       "      <th>NOME_COGNOME</th>\n",
       "      <th>DURATA</th>\n",
       "    </tr>\n",
       "  </thead>\n",
       "  <tbody>\n",
       "    <tr>\n",
       "      <th>5887</th>\n",
       "      <td>Matteo Salvini</td>\n",
       "      <td>4830594</td>\n",
       "    </tr>\n",
       "    <tr>\n",
       "      <th>7830</th>\n",
       "      <td>Silvio Berlusconi</td>\n",
       "      <td>2542977</td>\n",
       "    </tr>\n",
       "    <tr>\n",
       "      <th>5001</th>\n",
       "      <td>Luigi Di Maio</td>\n",
       "      <td>2460683</td>\n",
       "    </tr>\n",
       "    <tr>\n",
       "      <th>5880</th>\n",
       "      <td>Matteo Renzi</td>\n",
       "      <td>1896863</td>\n",
       "    </tr>\n",
       "    <tr>\n",
       "      <th>3719</th>\n",
       "      <td>Giorgia Meloni</td>\n",
       "      <td>1835590</td>\n",
       "    </tr>\n",
       "    <tr>\n",
       "      <th>...</th>\n",
       "      <td>...</td>\n",
       "      <td>...</td>\n",
       "    </tr>\n",
       "    <tr>\n",
       "      <th>6929</th>\n",
       "      <td>Pietro Grasso</td>\n",
       "      <td>167791</td>\n",
       "    </tr>\n",
       "    <tr>\n",
       "      <th>5412</th>\n",
       "      <td>Maria Elena Boschi</td>\n",
       "      <td>165889</td>\n",
       "    </tr>\n",
       "    <tr>\n",
       "      <th>3641</th>\n",
       "      <td>Gianni Cuperlo</td>\n",
       "      <td>165194</td>\n",
       "    </tr>\n",
       "    <tr>\n",
       "      <th>4933</th>\n",
       "      <td>Luciano Nobili</td>\n",
       "      <td>160188</td>\n",
       "    </tr>\n",
       "    <tr>\n",
       "      <th>4887</th>\n",
       "      <td>Lucia Borgonzoni</td>\n",
       "      <td>159962</td>\n",
       "    </tr>\n",
       "  </tbody>\n",
       "</table>\n",
       "<p>86 rows × 2 columns</p>\n",
       "</div>"
      ],
      "text/plain": [
       "            NOME_COGNOME   DURATA\n",
       "5887      Matteo Salvini  4830594\n",
       "7830   Silvio Berlusconi  2542977\n",
       "5001       Luigi Di Maio  2460683\n",
       "5880        Matteo Renzi  1896863\n",
       "3719      Giorgia Meloni  1835590\n",
       "...                  ...      ...\n",
       "6929       Pietro Grasso   167791\n",
       "5412  Maria Elena Boschi   165889\n",
       "3641      Gianni Cuperlo   165194\n",
       "4933      Luciano Nobili   160188\n",
       "4887    Lucia Borgonzoni   159962\n",
       "\n",
       "[86 rows x 2 columns]"
      ]
     },
     "execution_count": 235,
     "metadata": {},
     "output_type": "execute_result"
    }
   ],
   "source": [
    "presenze_politici_top_rilevanti"
   ]
  },
  {
   "cell_type": "code",
   "execution_count": 236,
   "metadata": {},
   "outputs": [],
   "source": [
    "distribuzione_argomenti = data.groupby(['DATA', 'ARGOMENTO','TIPO_TEMPO'])[\n",
    "    'DURATA'].aggregate('sum').unstack().reset_index()"
   ]
  },
  {
   "cell_type": "code",
   "execution_count": 237,
   "metadata": {},
   "outputs": [],
   "source": [
    "distribuzione_argomenti.fillna(0, inplace=True)"
   ]
  },
  {
   "cell_type": "code",
   "execution_count": 238,
   "metadata": {},
   "outputs": [],
   "source": [
    "distribuzione_argomenti['TOTALE'] = distribuzione_argomenti['Notizia'] + distribuzione_argomenti['Parola']"
   ]
  },
  {
   "cell_type": "code",
   "execution_count": 239,
   "metadata": {},
   "outputs": [
    {
     "data": {
      "text/html": [
       "<div>\n",
       "<style scoped>\n",
       "    .dataframe tbody tr th:only-of-type {\n",
       "        vertical-align: middle;\n",
       "    }\n",
       "\n",
       "    .dataframe tbody tr th {\n",
       "        vertical-align: top;\n",
       "    }\n",
       "\n",
       "    .dataframe thead th {\n",
       "        text-align: right;\n",
       "    }\n",
       "</style>\n",
       "<table border=\"1\" class=\"dataframe\">\n",
       "  <thead>\n",
       "    <tr style=\"text-align: right;\">\n",
       "      <th>TIPO_TEMPO</th>\n",
       "      <th>DATA</th>\n",
       "      <th>ARGOMENTO</th>\n",
       "      <th>Notizia</th>\n",
       "      <th>Parola</th>\n",
       "      <th>TOTALE</th>\n",
       "    </tr>\n",
       "  </thead>\n",
       "  <tbody>\n",
       "    <tr>\n",
       "      <th>0</th>\n",
       "      <td>2018-01-01</td>\n",
       "      <td>Costume e società</td>\n",
       "      <td>16.0</td>\n",
       "      <td>0.0</td>\n",
       "      <td>16.0</td>\n",
       "    </tr>\n",
       "    <tr>\n",
       "      <th>1</th>\n",
       "      <td>2018-01-01</td>\n",
       "      <td>Cronaca</td>\n",
       "      <td>154.0</td>\n",
       "      <td>404.0</td>\n",
       "      <td>558.0</td>\n",
       "    </tr>\n",
       "    <tr>\n",
       "      <th>2</th>\n",
       "      <td>2018-01-01</td>\n",
       "      <td>Economia, finanza e lavoro</td>\n",
       "      <td>11.0</td>\n",
       "      <td>0.0</td>\n",
       "      <td>11.0</td>\n",
       "    </tr>\n",
       "    <tr>\n",
       "      <th>3</th>\n",
       "      <td>2018-01-01</td>\n",
       "      <td>Giustizia</td>\n",
       "      <td>261.0</td>\n",
       "      <td>247.0</td>\n",
       "      <td>508.0</td>\n",
       "    </tr>\n",
       "    <tr>\n",
       "      <th>4</th>\n",
       "      <td>2018-01-01</td>\n",
       "      <td>Mass media e spettacolo</td>\n",
       "      <td>0.0</td>\n",
       "      <td>46.0</td>\n",
       "      <td>46.0</td>\n",
       "    </tr>\n",
       "    <tr>\n",
       "      <th>...</th>\n",
       "      <td>...</td>\n",
       "      <td>...</td>\n",
       "      <td>...</td>\n",
       "      <td>...</td>\n",
       "      <td>...</td>\n",
       "    </tr>\n",
       "    <tr>\n",
       "      <th>13197</th>\n",
       "      <td>2022-06-30</td>\n",
       "      <td>Costume e società</td>\n",
       "      <td>0.0</td>\n",
       "      <td>290.0</td>\n",
       "      <td>290.0</td>\n",
       "    </tr>\n",
       "    <tr>\n",
       "      <th>13198</th>\n",
       "      <td>2022-06-30</td>\n",
       "      <td>Cronaca</td>\n",
       "      <td>20.0</td>\n",
       "      <td>159.0</td>\n",
       "      <td>179.0</td>\n",
       "    </tr>\n",
       "    <tr>\n",
       "      <th>13199</th>\n",
       "      <td>2022-06-30</td>\n",
       "      <td>Economia, finanza e lavoro</td>\n",
       "      <td>188.0</td>\n",
       "      <td>2706.0</td>\n",
       "      <td>2894.0</td>\n",
       "    </tr>\n",
       "    <tr>\n",
       "      <th>13200</th>\n",
       "      <td>2022-06-30</td>\n",
       "      <td>Esteri</td>\n",
       "      <td>109.0</td>\n",
       "      <td>1226.0</td>\n",
       "      <td>1335.0</td>\n",
       "    </tr>\n",
       "    <tr>\n",
       "      <th>13201</th>\n",
       "      <td>2022-06-30</td>\n",
       "      <td>Politica e attività istituzionali</td>\n",
       "      <td>9162.0</td>\n",
       "      <td>24328.0</td>\n",
       "      <td>33490.0</td>\n",
       "    </tr>\n",
       "  </tbody>\n",
       "</table>\n",
       "<p>13202 rows × 5 columns</p>\n",
       "</div>"
      ],
      "text/plain": [
       "TIPO_TEMPO       DATA                          ARGOMENTO  Notizia   Parola  \\\n",
       "0          2018-01-01                  Costume e società     16.0      0.0   \n",
       "1          2018-01-01                            Cronaca    154.0    404.0   \n",
       "2          2018-01-01         Economia, finanza e lavoro     11.0      0.0   \n",
       "3          2018-01-01                          Giustizia    261.0    247.0   \n",
       "4          2018-01-01            Mass media e spettacolo      0.0     46.0   \n",
       "...               ...                                ...      ...      ...   \n",
       "13197      2022-06-30                  Costume e società      0.0    290.0   \n",
       "13198      2022-06-30                            Cronaca     20.0    159.0   \n",
       "13199      2022-06-30         Economia, finanza e lavoro    188.0   2706.0   \n",
       "13200      2022-06-30                             Esteri    109.0   1226.0   \n",
       "13201      2022-06-30  Politica e attività istituzionali   9162.0  24328.0   \n",
       "\n",
       "TIPO_TEMPO   TOTALE  \n",
       "0              16.0  \n",
       "1             558.0  \n",
       "2              11.0  \n",
       "3             508.0  \n",
       "4              46.0  \n",
       "...             ...  \n",
       "13197         290.0  \n",
       "13198         179.0  \n",
       "13199        2894.0  \n",
       "13200        1335.0  \n",
       "13201       33490.0  \n",
       "\n",
       "[13202 rows x 5 columns]"
      ]
     },
     "execution_count": 239,
     "metadata": {},
     "output_type": "execute_result"
    }
   ],
   "source": [
    "distribuzione_argomenti\n"
   ]
  },
  {
   "cell_type": "code",
   "execution_count": 240,
   "metadata": {},
   "outputs": [],
   "source": [
    "totale_notizie = distribuzione_argomenti.sort_values(by=\"ARGOMENTO\", ascending=True).groupby(\n",
    "    'ARGOMENTO')['Notizia'].aggregate('sum').to_frame().reset_index()\n",
    "\n",
    "out = \"[\"\n",
    "for idx, row in totale_notizie.iterrows():\n",
    "    v = round(row.Notizia / 60,2)\n",
    "    out += str(v) + \",\"\n",
    "out = out[:-1] + \"]\"\n"
   ]
  },
  {
   "cell_type": "code",
   "execution_count": 241,
   "metadata": {},
   "outputs": [],
   "source": [
    "totale_parole = distribuzione_argomenti.sort_values(by=\"ARGOMENTO\", ascending=True).groupby(\n",
    "    'ARGOMENTO')['Parola'].aggregate('sum').to_frame().reset_index()\n",
    "\n",
    "out = \"[\"\n",
    "for idx, row in totale_parole.iterrows():\n",
    "    v = round(row.Parola / 60, 2)\n",
    "    out += str(v) + \",\"\n",
    "out = out[:-1] + \"]\"\n"
   ]
  },
  {
   "cell_type": "code",
   "execution_count": 242,
   "metadata": {},
   "outputs": [
    {
     "data": {
      "text/plain": [
       "'[3683.68,1972.52,800.98,25861.02,3272.42,54273.38,12913.32,0.42,2530.72,331.0,1374.03,10432.68,742280.92,109.47,0.25,226.5,10249.23,975.97]'"
      ]
     },
     "execution_count": 242,
     "metadata": {},
     "output_type": "execute_result"
    }
   ],
   "source": [
    "out"
   ]
  },
  {
   "cell_type": "code",
   "execution_count": 243,
   "metadata": {},
   "outputs": [],
   "source": [
    "minuti_argomenti = distribuzione_argomenti.pivot_table(index=\"ARGOMENTO\", values=\"TOTALE\", aggfunc=np.sum).reset_index().sort_values(by=\"ARGOMENTO\", ascending=True)"
   ]
  },
  {
   "cell_type": "code",
   "execution_count": 244,
   "metadata": {},
   "outputs": [],
   "source": [
    "out = \"radar: { indicator: [\"\n",
    "for idx, row in minuti_argomenti.iterrows():\n",
    "    name = row.ARGOMENTO\n",
    "    value = round(row.TOTALE / 60,2)\n",
    "    out += \"{ name: '%s', value: %s},\" % (name, value)\n",
    "out = out[:-1] + \"]}\""
   ]
  },
  {
   "cell_type": "code",
   "execution_count": 245,
   "metadata": {},
   "outputs": [],
   "source": [
    "volume_notizie_parole = data.groupby(['DATA', 'TIPO_TEMPO'])['DURATA'].aggregate('sum').unstack().reset_index()"
   ]
  },
  {
   "cell_type": "code",
   "execution_count": 246,
   "metadata": {},
   "outputs": [],
   "source": [
    "volume_notizie_parole.sort_values(by=\"DATA\", ascending=True, inplace=True)"
   ]
  },
  {
   "cell_type": "code",
   "execution_count": 247,
   "metadata": {},
   "outputs": [
    {
     "data": {
      "text/html": [
       "<div>\n",
       "<style scoped>\n",
       "    .dataframe tbody tr th:only-of-type {\n",
       "        vertical-align: middle;\n",
       "    }\n",
       "\n",
       "    .dataframe tbody tr th {\n",
       "        vertical-align: top;\n",
       "    }\n",
       "\n",
       "    .dataframe thead th {\n",
       "        text-align: right;\n",
       "    }\n",
       "</style>\n",
       "<table border=\"1\" class=\"dataframe\">\n",
       "  <thead>\n",
       "    <tr style=\"text-align: right;\">\n",
       "      <th>TIPO_TEMPO</th>\n",
       "      <th>DATA</th>\n",
       "      <th>Notizia</th>\n",
       "      <th>Parola</th>\n",
       "    </tr>\n",
       "  </thead>\n",
       "  <tbody>\n",
       "    <tr>\n",
       "      <th>0</th>\n",
       "      <td>2018-01-01</td>\n",
       "      <td>8543</td>\n",
       "      <td>5404</td>\n",
       "    </tr>\n",
       "    <tr>\n",
       "      <th>1</th>\n",
       "      <td>2018-01-02</td>\n",
       "      <td>13613</td>\n",
       "      <td>8908</td>\n",
       "    </tr>\n",
       "    <tr>\n",
       "      <th>2</th>\n",
       "      <td>2018-01-03</td>\n",
       "      <td>18222</td>\n",
       "      <td>16568</td>\n",
       "    </tr>\n",
       "    <tr>\n",
       "      <th>3</th>\n",
       "      <td>2018-01-04</td>\n",
       "      <td>17561</td>\n",
       "      <td>19757</td>\n",
       "    </tr>\n",
       "    <tr>\n",
       "      <th>4</th>\n",
       "      <td>2018-01-05</td>\n",
       "      <td>16868</td>\n",
       "      <td>14548</td>\n",
       "    </tr>\n",
       "    <tr>\n",
       "      <th>...</th>\n",
       "      <td>...</td>\n",
       "      <td>...</td>\n",
       "      <td>...</td>\n",
       "    </tr>\n",
       "    <tr>\n",
       "      <th>1637</th>\n",
       "      <td>2022-06-26</td>\n",
       "      <td>3858</td>\n",
       "      <td>9586</td>\n",
       "    </tr>\n",
       "    <tr>\n",
       "      <th>1638</th>\n",
       "      <td>2022-06-27</td>\n",
       "      <td>15647</td>\n",
       "      <td>35442</td>\n",
       "    </tr>\n",
       "    <tr>\n",
       "      <th>1639</th>\n",
       "      <td>2022-06-28</td>\n",
       "      <td>12438</td>\n",
       "      <td>28493</td>\n",
       "    </tr>\n",
       "    <tr>\n",
       "      <th>1640</th>\n",
       "      <td>2022-06-29</td>\n",
       "      <td>8713</td>\n",
       "      <td>31095</td>\n",
       "    </tr>\n",
       "    <tr>\n",
       "      <th>1641</th>\n",
       "      <td>2022-06-30</td>\n",
       "      <td>9501</td>\n",
       "      <td>28933</td>\n",
       "    </tr>\n",
       "  </tbody>\n",
       "</table>\n",
       "<p>1642 rows × 3 columns</p>\n",
       "</div>"
      ],
      "text/plain": [
       "TIPO_TEMPO       DATA  Notizia  Parola\n",
       "0          2018-01-01     8543    5404\n",
       "1          2018-01-02    13613    8908\n",
       "2          2018-01-03    18222   16568\n",
       "3          2018-01-04    17561   19757\n",
       "4          2018-01-05    16868   14548\n",
       "...               ...      ...     ...\n",
       "1637       2022-06-26     3858    9586\n",
       "1638       2022-06-27    15647   35442\n",
       "1639       2022-06-28    12438   28493\n",
       "1640       2022-06-29     8713   31095\n",
       "1641       2022-06-30     9501   28933\n",
       "\n",
       "[1642 rows x 3 columns]"
      ]
     },
     "execution_count": 247,
     "metadata": {},
     "output_type": "execute_result"
    }
   ],
   "source": [
    "volume_notizie_parole\n"
   ]
  },
  {
   "cell_type": "code",
   "execution_count": 248,
   "metadata": {},
   "outputs": [],
   "source": [
    "volume_notizie_parole['TOTALE'] = volume_notizie_parole['Notizia'] + volume_notizie_parole['Parola']"
   ]
  },
  {
   "cell_type": "code",
   "execution_count": 249,
   "metadata": {},
   "outputs": [
    {
     "data": {
      "text/html": [
       "<div>\n",
       "<style scoped>\n",
       "    .dataframe tbody tr th:only-of-type {\n",
       "        vertical-align: middle;\n",
       "    }\n",
       "\n",
       "    .dataframe tbody tr th {\n",
       "        vertical-align: top;\n",
       "    }\n",
       "\n",
       "    .dataframe thead th {\n",
       "        text-align: right;\n",
       "    }\n",
       "</style>\n",
       "<table border=\"1\" class=\"dataframe\">\n",
       "  <thead>\n",
       "    <tr style=\"text-align: right;\">\n",
       "      <th>TIPO_TEMPO</th>\n",
       "      <th>DATA</th>\n",
       "      <th>Notizia</th>\n",
       "      <th>Parola</th>\n",
       "      <th>TOTALE</th>\n",
       "    </tr>\n",
       "  </thead>\n",
       "  <tbody>\n",
       "    <tr>\n",
       "      <th>1114</th>\n",
       "      <td>2021-01-19</td>\n",
       "      <td>18186</td>\n",
       "      <td>163020</td>\n",
       "      <td>181206</td>\n",
       "    </tr>\n",
       "  </tbody>\n",
       "</table>\n",
       "</div>"
      ],
      "text/plain": [
       "TIPO_TEMPO       DATA  Notizia  Parola  TOTALE\n",
       "1114       2021-01-19    18186  163020  181206"
      ]
     },
     "execution_count": 249,
     "metadata": {},
     "output_type": "execute_result"
    }
   ],
   "source": [
    "volume_notizie_parole[volume_notizie_parole.TOTALE == volume_notizie_parole.TOTALE.max()]\n"
   ]
  },
  {
   "cell_type": "code",
   "execution_count": 250,
   "metadata": {},
   "outputs": [
    {
     "data": {
      "text/html": [
       "<div>\n",
       "<style scoped>\n",
       "    .dataframe tbody tr th:only-of-type {\n",
       "        vertical-align: middle;\n",
       "    }\n",
       "\n",
       "    .dataframe tbody tr th {\n",
       "        vertical-align: top;\n",
       "    }\n",
       "\n",
       "    .dataframe thead th {\n",
       "        text-align: right;\n",
       "    }\n",
       "</style>\n",
       "<table border=\"1\" class=\"dataframe\">\n",
       "  <thead>\n",
       "    <tr style=\"text-align: right;\">\n",
       "      <th>TIPO_TEMPO</th>\n",
       "      <th>DATA</th>\n",
       "      <th>Notizia</th>\n",
       "      <th>Parola</th>\n",
       "      <th>TOTALE</th>\n",
       "    </tr>\n",
       "  </thead>\n",
       "  <tbody>\n",
       "    <tr>\n",
       "      <th>61</th>\n",
       "      <td>2018-03-03</td>\n",
       "      <td>463</td>\n",
       "      <td>883</td>\n",
       "      <td>1346</td>\n",
       "    </tr>\n",
       "  </tbody>\n",
       "</table>\n",
       "</div>"
      ],
      "text/plain": [
       "TIPO_TEMPO       DATA  Notizia  Parola  TOTALE\n",
       "61         2018-03-03      463     883    1346"
      ]
     },
     "execution_count": 250,
     "metadata": {},
     "output_type": "execute_result"
    }
   ],
   "source": [
    "volume_notizie_parole[volume_notizie_parole.TOTALE ==\n",
    "                      volume_notizie_parole.TOTALE.min()]\n"
   ]
  },
  {
   "cell_type": "code",
   "execution_count": 251,
   "metadata": {},
   "outputs": [],
   "source": [
    "out = \"\"\n",
    "for idx,row in volume_notizie_parole.iterrows():\n",
    "    day = row.DATA.strftime('%Y/%m/%d')\n",
    "    parole = round(row.Parola / 60,2)\n",
    "    notize = round(row.Notizia /60,2)\n",
    "    out += \"['%s', %s, 'INTERVENTI'],\" % (day, parole)\n",
    "    out += \"['%s', %s, 'NOTIZIE'],\" % (day, notize)\n"
   ]
  },
  {
   "cell_type": "code",
   "execution_count": 252,
   "metadata": {},
   "outputs": [
    {
     "data": {
      "text/plain": [
       "array(['Berlusconi', 'Calenda', 'Conte', ..., 'Delli Colli', 'Calearo',\n",
       "       'Gramazio'], dtype=object)"
      ]
     },
     "execution_count": 252,
     "metadata": {},
     "output_type": "execute_result"
    }
   ],
   "source": [
    "data.COGNOME.unique()"
   ]
  }
 ],
 "metadata": {
  "kernelspec": {
   "display_name": "Python 3.10.4 64-bit",
   "language": "python",
   "name": "python3"
  },
  "language_info": {
   "codemirror_mode": {
    "name": "ipython",
    "version": 3
   },
   "file_extension": ".py",
   "mimetype": "text/x-python",
   "name": "python",
   "nbconvert_exporter": "python",
   "pygments_lexer": "ipython3",
   "version": "3.10.4"
  },
  "orig_nbformat": 4,
  "vscode": {
   "interpreter": {
    "hash": "31f2aee4e71d21fbe5cf8b01ff0e069b9275f58929596ceb00d14d90e3e16cd6"
   }
  }
 },
 "nbformat": 4,
 "nbformat_minor": 2
}
